{
 "cells": [
  {
   "cell_type": "markdown",
   "metadata": {},
   "source": [
    "# os\n",
    "\n",
    "- toc: true\n",
    "- badges: true\n",
    "- comments: true\n",
    "- categories: [python]"
   ]
  },
  {
   "cell_type": "markdown",
   "metadata": {},
   "source": [
    "Full documentation is [here](https://docs.python.org/3/library/os.html#os.scandir)."
   ]
  },
  {
   "cell_type": "code",
   "execution_count": 11,
   "metadata": {},
   "outputs": [],
   "source": [
    "import os"
   ]
  },
  {
   "cell_type": "markdown",
   "metadata": {},
   "source": [
    "## Listing files in directory"
   ]
  },
  {
   "cell_type": "markdown",
   "metadata": {},
   "source": [
    "### List filenames:"
   ]
  },
  {
   "cell_type": "code",
   "execution_count": 37,
   "metadata": {},
   "outputs": [
    {
     "data": {
      "text/plain": [
       "['a.py', 'b.py']"
      ]
     },
     "execution_count": 37,
     "metadata": {},
     "output_type": "execute_result"
    }
   ],
   "source": [
    "path = '/Users/fgu/tmp/testdir'\n",
    "\n",
    "os.listdir(path)"
   ]
  },
  {
   "cell_type": "markdown",
   "metadata": {},
   "source": [
    "### List filenames with full path:"
   ]
  },
  {
   "cell_type": "markdown",
   "metadata": {},
   "source": [
    "There are [many](https://stackoverflow.com/questions/3207219/how-do-i-list-all-files-of-a-directory) ways to do this. I find using [`scandir()`](https://docs.python.org/3/library/os.html#os.scandir) most useful."
   ]
  },
  {
   "cell_type": "code",
   "execution_count": 38,
   "metadata": {},
   "outputs": [
    {
     "data": {
      "text/plain": [
       "['/Users/fgu/tmp/testdir/a.py', '/Users/fgu/tmp/testdir/b.py']"
      ]
     },
     "execution_count": 38,
     "metadata": {},
     "output_type": "execute_result"
    }
   ],
   "source": [
    "paths = [f.path for f in os.scandir(path)]\n",
    "paths"
   ]
  },
  {
   "cell_type": "markdown",
   "metadata": {},
   "source": [
    "This only works if `path` is an absolute path, else `scandir()` will return relative paths just like `listdir()`.\n",
    "\n",
    "The [`os.DirEntry`](https://docs.python.org/3/library/os.html#os.DirEntry) object returned by `scandir()` is quite useful for other things, too:"
   ]
  },
  {
   "cell_type": "code",
   "execution_count": 39,
   "metadata": {},
   "outputs": [
    {
     "name": "stdout",
     "output_type": "stream",
     "text": [
      "<DirEntry 'a.py'>\n",
      "a.py\n",
      "/Users/fgu/tmp/testdir/a.py\n",
      "True\n",
      "False\n",
      "\n",
      "<DirEntry 'b.py'>\n",
      "b.py\n",
      "/Users/fgu/tmp/testdir/b.py\n",
      "True\n",
      "False\n",
      "\n"
     ]
    }
   ],
   "source": [
    "for f in os.scandir(path):\n",
    "    print(f)\n",
    "    print(f.name)\n",
    "    print(f.path)\n",
    "    print(f.is_file())\n",
    "    print(f.is_dir())\n",
    "    print()"
   ]
  },
  {
   "cell_type": "code",
   "execution_count": null,
   "metadata": {},
   "outputs": [],
   "source": []
  }
 ],
 "metadata": {
  "kernelspec": {
   "display_name": "limo",
   "language": "python",
   "name": "limo"
  },
  "language_info": {
   "codemirror_mode": {
    "name": "ipython",
    "version": 3
   },
   "file_extension": ".py",
   "mimetype": "text/x-python",
   "name": "python",
   "nbconvert_exporter": "python",
   "pygments_lexer": "ipython3",
   "version": "3.7.4"
  }
 },
 "nbformat": 4,
 "nbformat_minor": 4
}
