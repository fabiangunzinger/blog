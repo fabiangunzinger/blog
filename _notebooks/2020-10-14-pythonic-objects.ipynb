{
 "cells": [
  {
   "cell_type": "markdown",
   "metadata": {},
   "source": [
    "# Pythonic objects\n",
    "\n",
    "- toc: true\n",
    "- badges: true\n",
    "- comments: true\n",
    "- categories: [python]"
   ]
  },
  {
   "cell_type": "markdown",
   "metadata": {},
   "source": [
    "Practicing the use of special methods."
   ]
  },
  {
   "cell_type": "markdown",
   "metadata": {},
   "source": [
    "## An artificially powerful French card deck"
   ]
  },
  {
   "cell_type": "markdown",
   "metadata": {},
   "source": [
    "Based on part 4 in Fluent Python."
   ]
  },
  {
   "cell_type": "code",
   "execution_count": 1,
   "metadata": {},
   "outputs": [
    {
     "data": {
      "text/plain": [
       "\"('--2--', 'spades'), ('--3--', 'spades'), ('--4--', 'spades')\""
      ]
     },
     "execution_count": 1,
     "metadata": {},
     "output_type": "execute_result"
    }
   ],
   "source": [
    "import collections\n",
    "import functools\n",
    "import numbers\n",
    "import operator\n",
    "\n",
    "Card = collections.namedtuple('Card', ['rank', 'suit'])\n",
    "\n",
    "class FrenchDeck:\n",
    "    ranks = [str(n) for n in range(2, 11)] + list('JQKA')\n",
    "    suits = 'spades diamonds clubs hearts'.split()\n",
    "    \n",
    "    def __init__(self, cards=None):\n",
    "        if cards is None:\n",
    "            self._cards = [Card(rank, suit) for suit in self.suits\n",
    "                                            for rank in self.ranks]\n",
    "        else:\n",
    "            self._cards = cards\n",
    "        \n",
    "    def __len__(self):\n",
    "        return len(self._cards)\n",
    "    \n",
    "    # basic implementation returns a list\n",
    "    def __getitem__(self, position):\n",
    "        return self._cards[position]\n",
    "    \n",
    "    # make slicing return a FrenchDeck rather than a list\n",
    "    # this is what requires the conditional init statement\n",
    "    def __getitem__(self, index):\n",
    "        cls = type(self)\n",
    "        if isinstance(index, slice):\n",
    "            return cls(self._cards[index])\n",
    "        if isinstance(index, numbers.Integral):\n",
    "            return self._cards[index]\n",
    "        else:\n",
    "            msg = '{cls.__name__} indices must be integers'\n",
    "            raise TypeError(msg.format(cls=cls))\n",
    "        \n",
    "    def __str__(self):\n",
    "        cards = [(card.suit, card.rank) for card in self._cards]\n",
    "        return str(tuple(cards))\n",
    "    \n",
    "    def __repr__(self):\n",
    "        cards = [(card.suit, card.rank) for card in self._cards]\n",
    "        return 'FrenchDeck({})'.format(cards)\n",
    "    \n",
    "    shortcut_names = 'abc'\n",
    "\n",
    "    # access first three elements with abc shortcut\n",
    "    def __getattr__(self, name):\n",
    "        cls = type(self)\n",
    "        if len(name) == 1:\n",
    "            pos = self.shortcut_names.find(name)\n",
    "            if 0 <= pos < len(self._cards):\n",
    "                return self._cards[pos]\n",
    "        msg = '{.__name__!r} object has no attribute {!r}'\n",
    "        raise AttributeError(msg.format(cls, name))\n",
    "        \n",
    "    # avoid attribute setting to avoid confusion with abc shortcuts\n",
    "    def __setattr__(self, name, value):\n",
    "        cls = type(self)\n",
    "        if len(name) == 1:\n",
    "            if name in self.shortcut_names:\n",
    "                error = 'readonly attribute {attr_name!r}'\n",
    "            elif name.islower():\n",
    "                error = \"can't set attributes 'a' to 'z' in {cls_name!r}\"\n",
    "            else:\n",
    "                error = ''\n",
    "            if error:\n",
    "                msg = error.format(attr_name=name, cls_name=cls.__name__)\n",
    "                raise AttributeError(msg)\n",
    "        super().__setattr__(name, value)\n",
    "        \n",
    "    # basic comparison\n",
    "    def __eq__(self, other):\n",
    "        return tuple(self) == tuple(other)\n",
    "    \n",
    "    # more efficient comparison for large deck\n",
    "    def __eq__(self, other):\n",
    "        return (len(self) == len(other) and \n",
    "                all(a == b for a, b in zip(self, other)))\n",
    "    \n",
    "    def __hash__(self):\n",
    "        hashes = map(hash, self._cards)\n",
    "        return functools.reduce(operator.xor, hashes)\n",
    "    \n",
    "    # totally artificial format attribute\n",
    "    def __format__(self, fmt):\n",
    "        cards = ((format(card.rank, fmt), card.suit) \n",
    "                 for card in deck._cards[:3])\n",
    "        return '{}, {}, {}'.format(*cards)\n",
    "        \n",
    "    \n",
    "           \n",
    "deck = FrenchDeck()\n",
    "# print(deck[3:5])\n",
    "# print(deck.a)\n",
    "# deck[2:3]\n",
    "ddeck = FrenchDeck()\n",
    "format(deck, '-^5')"
   ]
  },
  {
   "cell_type": "markdown",
   "metadata": {},
   "source": [
    "FrenchDeck as a subclass of an existing ABC, `collections.MutableSequence`."
   ]
  },
  {
   "cell_type": "code",
   "execution_count": 7,
   "metadata": {},
   "outputs": [
    {
     "data": {
      "text/plain": [
       "[Card(card='5', suit='spandes'),\n",
       " Card(card='4', suit='spandes'),\n",
       " Card(card='3', suit='spandes'),\n",
       " 'ha',\n",
       " Card(card='2', suit='spandes')]"
      ]
     },
     "execution_count": 7,
     "metadata": {},
     "output_type": "execute_result"
    }
   ],
   "source": [
    "import collections\n",
    "\n",
    "Card = collections.namedtuple('Card', ['card', 'suit'])\n",
    "\n",
    "class FrenchDeck2(collections.MutableSequence):\n",
    "    cards = [str(n) for n in range(2, 11)] + list('JQKA')\n",
    "    suits = 'spandes clubs diamonds hearts'.split()\n",
    "    \n",
    "    def __init__(self):\n",
    "        self._cards = [Card(card, suit) for suit in self.suits\n",
    "                                    for card in self.cards]\n",
    "        \n",
    "    def __len__(self):\n",
    "        return len(self._cards)\n",
    "    \n",
    "    def __getitem__(self, position):\n",
    "        return self._cards[position]\n",
    "    \n",
    "    def __iter__(self):\n",
    "        return (c for c in self._cards)\n",
    "    \n",
    "    def __delitem__(self, position):\n",
    "        del self._cards[position]\n",
    "        \n",
    "    def __setitem__(self, key, value):\n",
    "        self._cards[key] = value\n",
    "        \n",
    "    def insert(self, position, value):\n",
    "        self._cards.insert(position, value)\n",
    "        \n",
    "a = FrenchDeck2()\n",
    "\n",
    "a.insert(1, 'hello')\n",
    "len(a)\n",
    "a[1] = 'ha'\n",
    "len(a)\n",
    "a[:3]\n",
    "list(reversed(a[:5]))"
   ]
  },
  {
   "cell_type": "markdown",
   "metadata": {},
   "source": [
    "## Sources\n",
    "\n",
    "- [Fluent Python](https://www.oreilly.com/library/view/fluent-python/9781491946237/)"
   ]
  }
 ],
 "metadata": {
  "kernelspec": {
   "display_name": "limo",
   "language": "python",
   "name": "limo"
  },
  "language_info": {
   "codemirror_mode": {
    "name": "ipython",
    "version": 3
   },
   "file_extension": ".py",
   "mimetype": "text/x-python",
   "name": "python",
   "nbconvert_exporter": "python",
   "pygments_lexer": "ipython3",
   "version": "3.7.4"
  }
 },
 "nbformat": 4,
 "nbformat_minor": 4
}
