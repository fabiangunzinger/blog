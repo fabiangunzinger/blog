{
 "cells": [
  {
   "cell_type": "markdown",
   "metadata": {},
   "source": [
    "# Work environment\n",
    "> A reminder to my future self on how I set up my working environment\n",
    "\n",
    "- hide: true\n",
    "- toc: true\n",
    "- comments: true\n",
    "- categories: [tools]"
   ]
  },
  {
   "cell_type": "markdown",
   "metadata": {},
   "source": [
    "## connecting to aws instance using ssh"
   ]
  },
  {
   "cell_type": "markdown",
   "metadata": {},
   "source": [
    "- Set up an asw EC2 instance\n",
    "\n",
    "- Link to S3 bucket.\n",
    "\n",
    "- Set up ssh [access](https://docs.aws.amazon.com/AWSEC2/latest/UserGuide/AccessingInstancesLinux.html).\n",
    "\n",
    "- Create shortcut in .bashrc to ssh into instance (I use \"caw\" -- short for \"connect to aws\")\n",
    "\n",
    "- Install Git on [instance](https://cloudaffaire.com/how-to-install-git-in-aws-ec2-instance/)\n",
    "\n",
    "- Install [Anaconda](https://medium.com/@GalarnykMichael/aws-ec2-part-3-installing-anaconda-on-ec2-linux-ubuntu-dbef0835818a)\n",
    "\n",
    "- Launch [Jupyter server](https://medium.com/@GalarnykMichael/aws-ec2-part-4-starting-a-jupyter-ipython-notebook-server-on-aws-549d87a55ba9) - haven't done this yet, but might be userful in the future."
   ]
  },
  {
   "cell_type": "markdown",
   "metadata": {},
   "source": [
    "## ssh"
   ]
  },
  {
   "cell_type": "markdown",
   "metadata": {},
   "source": [
    "### general questions\n",
    "\n",
    "- Should I use one key for everything or separate keys for each application? In short: use one for each user (e.g. if you're working on your own and for yourself but use ssh to access different clients use a single key). Longer answer [here](https://security.stackexchange.com/a/40061)"
   ]
  },
  {
   "cell_type": "markdown",
   "metadata": {},
   "source": [
    "## creating private-public key pair"
   ]
  },
  {
   "cell_type": "markdown",
   "metadata": {},
   "source": [
    "To create a key open the terminal and type (details [here](https://www.ssh.com/ssh/keygen/)):"
   ]
  },
  {
   "cell_type": "code",
   "execution_count": null,
   "metadata": {},
   "outputs": [],
   "source": [
    "$ ssh-keygen -t rsa -b 4096"
   ]
  },
  {
   "cell_type": "markdown",
   "metadata": {},
   "source": [
    "This creates files for our private key (id_rsa) and public key (id_rsa.pub) in the .ssh folder of our home directory."
   ]
  },
  {
   "cell_type": "markdown",
   "metadata": {},
   "source": [
    "## Sources\n",
    "\n",
    "- [Corey Schafer - ssh-based authentification](https://www.youtube.com/watch?v=vpk_1gldOAE)\n",
    "- [Bitfumes - how ssh key works](https://www.youtube.com/watch?v=y2SWzw9D4RA)"
   ]
  },
  {
   "cell_type": "code",
   "execution_count": null,
   "metadata": {},
   "outputs": [],
   "source": []
  }
 ],
 "metadata": {
  "kernelspec": {
   "display_name": "habits",
   "language": "python",
   "name": "habits"
  },
  "language_info": {
   "codemirror_mode": {
    "name": "ipython",
    "version": 3
   },
   "file_extension": ".py",
   "mimetype": "text/x-python",
   "name": "python",
   "nbconvert_exporter": "python",
   "pygments_lexer": "ipython3",
   "version": "3.7.7"
  }
 },
 "nbformat": 4,
 "nbformat_minor": 4
}
