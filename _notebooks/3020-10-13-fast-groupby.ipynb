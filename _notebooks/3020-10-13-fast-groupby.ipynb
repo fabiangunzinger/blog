{
 "cells": [
  {
   "cell_type": "markdown",
   "metadata": {},
   "source": [
    "# Fast groupby operations\n",
    "\n",
    "- hide: true\n",
    "- category: [python, pandas]"
   ]
  },
  {
   "cell_type": "code",
   "execution_count": 1,
   "metadata": {},
   "outputs": [],
   "source": [
    "from imports import *\n",
    "\n",
    "%config InlineBackend.figure_format = 'retina'\n",
    "%load_ext line_profiler\n",
    "%load_ext autoreload\n",
    "%autoreload 2"
   ]
  },
  {
   "cell_type": "code",
   "execution_count": 2,
   "metadata": {},
   "outputs": [
    {
     "name": "stdout",
     "output_type": "stream",
     "text": [
      "(115197, 21)\n"
     ]
    },
    {
     "data": {
      "text/html": [
       "<div>\n",
       "<style scoped>\n",
       "    .dataframe tbody tr th:only-of-type {\n",
       "        vertical-align: middle;\n",
       "    }\n",
       "\n",
       "    .dataframe tbody tr th {\n",
       "        vertical-align: top;\n",
       "    }\n",
       "\n",
       "    .dataframe thead th {\n",
       "        text-align: right;\n",
       "    }\n",
       "</style>\n",
       "<table border=\"1\" class=\"dataframe\">\n",
       "  <thead>\n",
       "    <tr style=\"text-align: right;\">\n",
       "      <th></th>\n",
       "      <th>user_id</th>\n",
       "      <th>transaction_date</th>\n",
       "      <th>amount</th>\n",
       "      <th>transaction_description</th>\n",
       "      <th>merchant_name</th>\n",
       "      <th>tag</th>\n",
       "      <th>gender</th>\n",
       "      <th>transaction_id</th>\n",
       "      <th>bank</th>\n",
       "      <th>account_created</th>\n",
       "      <th>account_type</th>\n",
       "      <th>postcode</th>\n",
       "      <th>merchant_business_line</th>\n",
       "      <th>ym</th>\n",
       "      <th>account_id</th>\n",
       "      <th>year_of_birth</th>\n",
       "      <th>user_registration_date</th>\n",
       "      <th>salary_range</th>\n",
       "      <th>credit_debit</th>\n",
       "      <th>account_last_refreshed</th>\n",
       "      <th>latest_balance</th>\n",
       "    </tr>\n",
       "  </thead>\n",
       "  <tbody>\n",
       "    <tr>\n",
       "      <th>6553</th>\n",
       "      <td>14777</td>\n",
       "      <td>2012-10-10</td>\n",
       "      <td>5.00</td>\n",
       "      <td>new southern railw cd 7715</td>\n",
       "      <td>southern rail</td>\n",
       "      <td>public transport</td>\n",
       "      <td>m</td>\n",
       "      <td>2994290</td>\n",
       "      <td>lloyds bank</td>\n",
       "      <td>2013-01-07</td>\n",
       "      <td>current</td>\n",
       "      <td>sw11 5</td>\n",
       "      <td>southern rail</td>\n",
       "      <td>201210</td>\n",
       "      <td>247061</td>\n",
       "      <td>1986.0</td>\n",
       "      <td>2013-01-07</td>\n",
       "      <td>NaN</td>\n",
       "      <td>debit</td>\n",
       "      <td>2015-01-13 05:19:00</td>\n",
       "      <td>729.59</td>\n",
       "    </tr>\n",
       "    <tr>\n",
       "      <th>6554</th>\n",
       "      <td>14777</td>\n",
       "      <td>2012-10-10</td>\n",
       "      <td>11.10</td>\n",
       "      <td>new southern railw cd 7715</td>\n",
       "      <td>southern rail</td>\n",
       "      <td>public transport</td>\n",
       "      <td>m</td>\n",
       "      <td>2994291</td>\n",
       "      <td>lloyds bank</td>\n",
       "      <td>2013-01-07</td>\n",
       "      <td>current</td>\n",
       "      <td>sw11 5</td>\n",
       "      <td>southern rail</td>\n",
       "      <td>201210</td>\n",
       "      <td>247061</td>\n",
       "      <td>1986.0</td>\n",
       "      <td>2013-01-07</td>\n",
       "      <td>NaN</td>\n",
       "      <td>debit</td>\n",
       "      <td>2015-01-13 05:19:00</td>\n",
       "      <td>729.59</td>\n",
       "    </tr>\n",
       "    <tr>\n",
       "      <th>6555</th>\n",
       "      <td>14777</td>\n",
       "      <td>2012-10-10</td>\n",
       "      <td>26.91</td>\n",
       "      <td>ticketscript*14064 cd 7715</td>\n",
       "      <td>no merchant</td>\n",
       "      <td>public transport</td>\n",
       "      <td>m</td>\n",
       "      <td>2994292</td>\n",
       "      <td>lloyds bank</td>\n",
       "      <td>2013-01-07</td>\n",
       "      <td>current</td>\n",
       "      <td>sw11 5</td>\n",
       "      <td>unknown merchant</td>\n",
       "      <td>201210</td>\n",
       "      <td>247061</td>\n",
       "      <td>1986.0</td>\n",
       "      <td>2013-01-07</td>\n",
       "      <td>NaN</td>\n",
       "      <td>debit</td>\n",
       "      <td>2015-01-13 05:19:00</td>\n",
       "      <td>729.59</td>\n",
       "    </tr>\n",
       "    <tr>\n",
       "      <th>6556</th>\n",
       "      <td>14777</td>\n",
       "      <td>2012-10-10</td>\n",
       "      <td>83.20</td>\n",
       "      <td>selfserve ticket cd 2412</td>\n",
       "      <td>south west trains</td>\n",
       "      <td>public transport</td>\n",
       "      <td>m</td>\n",
       "      <td>2994293</td>\n",
       "      <td>lloyds bank</td>\n",
       "      <td>2013-01-07</td>\n",
       "      <td>current</td>\n",
       "      <td>sw11 5</td>\n",
       "      <td>south west trains</td>\n",
       "      <td>201210</td>\n",
       "      <td>247061</td>\n",
       "      <td>1986.0</td>\n",
       "      <td>2013-01-07</td>\n",
       "      <td>NaN</td>\n",
       "      <td>debit</td>\n",
       "      <td>2015-01-13 05:19:00</td>\n",
       "      <td>729.59</td>\n",
       "    </tr>\n",
       "    <tr>\n",
       "      <th>6557</th>\n",
       "      <td>14777</td>\n",
       "      <td>2012-10-11</td>\n",
       "      <td>19.00</td>\n",
       "      <td>liv*livingsocial cd 7715</td>\n",
       "      <td>no merchant</td>\n",
       "      <td>dining and drinking</td>\n",
       "      <td>m</td>\n",
       "      <td>2994289</td>\n",
       "      <td>lloyds bank</td>\n",
       "      <td>2013-01-07</td>\n",
       "      <td>current</td>\n",
       "      <td>sw11 5</td>\n",
       "      <td>unknown merchant</td>\n",
       "      <td>201210</td>\n",
       "      <td>247061</td>\n",
       "      <td>1986.0</td>\n",
       "      <td>2013-01-07</td>\n",
       "      <td>NaN</td>\n",
       "      <td>debit</td>\n",
       "      <td>2015-01-13 05:19:00</td>\n",
       "      <td>729.59</td>\n",
       "    </tr>\n",
       "  </tbody>\n",
       "</table>\n",
       "</div>"
      ],
      "text/plain": [
       "      user_id transaction_date  amount     transaction_description  \\\n",
       "6553    14777       2012-10-10    5.00  new southern railw cd 7715   \n",
       "6554    14777       2012-10-10   11.10  new southern railw cd 7715   \n",
       "6555    14777       2012-10-10   26.91  ticketscript*14064 cd 7715   \n",
       "6556    14777       2012-10-10   83.20    selfserve ticket cd 2412   \n",
       "6557    14777       2012-10-11   19.00    liv*livingsocial cd 7715   \n",
       "\n",
       "          merchant_name                  tag gender  transaction_id  \\\n",
       "6553      southern rail     public transport      m         2994290   \n",
       "6554      southern rail     public transport      m         2994291   \n",
       "6555        no merchant     public transport      m         2994292   \n",
       "6556  south west trains     public transport      m         2994293   \n",
       "6557        no merchant  dining and drinking      m         2994289   \n",
       "\n",
       "             bank account_created account_type postcode  \\\n",
       "6553  lloyds bank      2013-01-07      current   sw11 5   \n",
       "6554  lloyds bank      2013-01-07      current   sw11 5   \n",
       "6555  lloyds bank      2013-01-07      current   sw11 5   \n",
       "6556  lloyds bank      2013-01-07      current   sw11 5   \n",
       "6557  lloyds bank      2013-01-07      current   sw11 5   \n",
       "\n",
       "     merchant_business_line      ym  account_id  year_of_birth  \\\n",
       "6553          southern rail  201210      247061         1986.0   \n",
       "6554          southern rail  201210      247061         1986.0   \n",
       "6555       unknown merchant  201210      247061         1986.0   \n",
       "6556      south west trains  201210      247061         1986.0   \n",
       "6557       unknown merchant  201210      247061         1986.0   \n",
       "\n",
       "     user_registration_date salary_range credit_debit account_last_refreshed  \\\n",
       "6553             2013-01-07          NaN        debit    2015-01-13 05:19:00   \n",
       "6554             2013-01-07          NaN        debit    2015-01-13 05:19:00   \n",
       "6555             2013-01-07          NaN        debit    2015-01-13 05:19:00   \n",
       "6556             2013-01-07          NaN        debit    2015-01-13 05:19:00   \n",
       "6557             2013-01-07          NaN        debit    2015-01-13 05:19:00   \n",
       "\n",
       "      latest_balance  \n",
       "6553          729.59  \n",
       "6554          729.59  \n",
       "6555          729.59  \n",
       "6556          729.59  \n",
       "6557          729.59  "
      ]
     },
     "execution_count": 2,
     "metadata": {},
     "output_type": "execute_result"
    }
   ],
   "source": [
    "path = '/Users/fgu/tmp/mdb/data_777.parquet'\n",
    "df = pd.read_parquet(path)\n",
    "print(df.shape)\n",
    "df.head()"
   ]
  },
  {
   "cell_type": "markdown",
   "metadata": {},
   "source": [
    "## Applications"
   ]
  },
  {
   "cell_type": "markdown",
   "metadata": {},
   "source": [
    "Baseline function to filter out users with minumum number of transactions and spend in each month."
   ]
  },
  {
   "cell_type": "code",
   "execution_count": 3,
   "metadata": {},
   "outputs": [
    {
     "name": "stdout",
     "output_type": "stream",
     "text": [
      "575 ms ± 38.9 ms per loop (mean ± std. dev. of 7 runs, 1 loop each)\n"
     ]
    }
   ],
   "source": [
    "def min_txns_and_spend(df, min_txns=10, min_spend=300):\n",
    "    \"\"\"At least 5 monthly debits totalling GBP200.\n",
    "    Drops first and last month for each user due to possible partial data.\n",
    "    \"\"\"\n",
    "    cols = ['user_id', 'transaction_date', 'amount']\n",
    "    spend = df.loc[df.amount > 0, cols]\n",
    "    spend = spend.set_index('transaction_date')\n",
    "    spend['ym'] = df.transaction_date.dt.to_period('M')\n",
    "\n",
    "    g = spend.groupby('user_id')\n",
    "    spend['first_month'] = g.ym.transform(min)\n",
    "    spend['last_month'] = g.ym.transform(max)\n",
    "    spend = spend[(spend.ym != spend.first_month)\n",
    "                  & (spend.ym != spend.last_month)]\n",
    "\n",
    "    mins = (spend\n",
    "            .groupby('user_id')\n",
    "            .resample('M')\n",
    "            .amount\n",
    "            .agg(['count', 'sum'])\n",
    "            .groupby('user_id')\n",
    "            .min())\n",
    "    mask = (mins >= (min_txns, min_spend)).all(1)\n",
    "    users = mins[mask].index\n",
    "    return df[df.user_id.isin(users)]\n",
    "\n",
    "%timeit min_txns_and_spend(df)"
   ]
  },
  {
   "cell_type": "code",
   "execution_count": 4,
   "metadata": {},
   "outputs": [
    {
     "data": {
      "text/plain": [
       "Timer unit: 1e-06 s\n",
       "\n",
       "Total time: 0.826138 s\n",
       "File: <ipython-input-3-2d7d76d03c1f>\n",
       "Function: min_txns_and_spend at line 1\n",
       "\n",
       "Line #      Hits         Time  Per Hit   % Time  Line Contents\n",
       "==============================================================\n",
       "     1                                           def min_txns_and_spend(df, min_txns=10, min_spend=300):\n",
       "     2                                               \"\"\"At least 5 monthly debits totalling GBP200.\n",
       "     3                                               Drops first and last month for each user due to possible partial data.\n",
       "     4                                               \"\"\"\n",
       "     5         1        119.0    119.0      0.0      cols = ['user_id', 'transaction_date', 'amount']\n",
       "     6         1      19079.0  19079.0      2.3      spend = df.loc[df.amount > 0, cols]\n",
       "     7         1       1543.0   1543.0      0.2      spend = spend.set_index('transaction_date')\n",
       "     8         1     414730.0 414730.0     50.2      spend['ym'] = df.transaction_date.dt.to_period('M')\n",
       "     9                                           \n",
       "    10         1        243.0    243.0      0.0      g = spend.groupby('user_id')\n",
       "    11         1       3671.0   3671.0      0.4      spend['first_month'] = g.ym.transform(min)\n",
       "    12         1       1960.0   1960.0      0.2      spend['last_month'] = g.ym.transform(max)\n",
       "    13         1        761.0    761.0      0.1      spend = spend[(spend.ym != spend.first_month)\n",
       "    14         1       4761.0   4761.0      0.6                    & (spend.ym != spend.last_month)]\n",
       "    15                                           \n",
       "    16         1          2.0      2.0      0.0      mins = (spend\n",
       "    17         1        284.0    284.0      0.0              .groupby('user_id')\n",
       "    18         1      13216.0  13216.0      1.6              .resample('M')\n",
       "    19                                                       .amount\n",
       "    20         1     350782.0 350782.0     42.5              .agg(['count', 'sum'])\n",
       "    21         1       1273.0   1273.0      0.2              .groupby('user_id')\n",
       "    22                                                       .min())\n",
       "    23         1       1664.0   1664.0      0.2      mask = (mins >= (min_txns, min_spend)).all(1)\n",
       "    24         1        438.0    438.0      0.1      users = mins[mask].index\n",
       "    25         1      11612.0  11612.0      1.4      return df[df.user_id.isin(users)]"
      ]
     },
     "metadata": {},
     "output_type": "display_data"
    }
   ],
   "source": [
    "%lprun -f min_txns_and_spend min_txns_and_spend(df)"
   ]
  },
  {
   "cell_type": "code",
   "execution_count": 5,
   "metadata": {},
   "outputs": [
    {
     "data": {
      "text/plain": [
       "Timer unit: 1e-06 s\n",
       "\n",
       "Total time: 0.061221 s\n",
       "File: <ipython-input-5-15b18e57e686>\n",
       "Function: fast at line 1\n",
       "\n",
       "Line #      Hits         Time  Per Hit   % Time  Line Contents\n",
       "==============================================================\n",
       "     1                                           def fast(df):\n",
       "     2                                               \"\"\"\n",
       "     3                                               At least 5 monthly debits totalling GBP200.\n",
       "     4                                               Drops first and last month for each user due to possible partial data.\n",
       "     5                                               \"\"\"\n",
       "     6         1       4073.0   4073.0      6.7      data = df[['user_id', 'ym', 'amount']]\n",
       "     7                                           \n",
       "     8                                               # keep debits\n",
       "     9         1       5935.0   5935.0      9.7      data = data[data.amount > 0]\n",
       "    10                                           \n",
       "    11                                               # remove first and last month from each user\n",
       "    12         1        335.0    335.0      0.5      g = data.groupby('user_id')\n",
       "    13         1       3383.0   3383.0      5.5      first_month = g.ym.transform(min)\n",
       "    14         1       1950.0   1950.0      3.2      last_month = g.ym.transform(max)\n",
       "    15         1       5665.0   5665.0      9.3      data = data[(data.ym > first_month) & (data.ym < last_month)]\n",
       "    16                                           \n",
       "    17                                               # calculate min spend and count per month per user\n",
       "    18         1        560.0    560.0      0.9      g = data.groupby(['user_id', 'ym']).amount\n",
       "    19         1       8496.0   8496.0     13.9      spend = g.sum()\n",
       "    20         1        918.0    918.0      1.5      count = g.size()\n",
       "    21         1       1239.0   1239.0      2.0      min_spend = spend.groupby('user_id').min()\n",
       "    22         1       5522.0   5522.0      9.0      min_count = count.groupby('user_id').min()\n",
       "    23                                           \n",
       "    24                                               # keep users\n",
       "    25         1       4018.0   4018.0      6.6      users = (min_count >= 10) & (min_spend >= 200)\n",
       "    26         1        627.0    627.0      1.0      users = users[users].index\n",
       "    27                                           \n",
       "    28         1      18500.0  18500.0     30.2      return df[df.user_id.isin(users)]"
      ]
     },
     "metadata": {},
     "output_type": "display_data"
    }
   ],
   "source": [
    "def fast(df):\n",
    "    \"\"\"\n",
    "    At least 5 monthly debits totalling GBP200.\n",
    "    Drops first and last month for each user due to possible partial data.\n",
    "    \"\"\"\n",
    "    data = df[['user_id', 'ym', 'amount']]\n",
    "\n",
    "    # keep debits\n",
    "    data = data[data.amount > 0]\n",
    "\n",
    "    # remove first and last month from each user\n",
    "    g = data.groupby('user_id')\n",
    "    first_month = g.ym.transform(min)\n",
    "    last_month = g.ym.transform(max)\n",
    "    data = data[(data.ym > first_month) & (data.ym < last_month)]\n",
    "\n",
    "    # calculate min spend and count per month per user\n",
    "    g = data.groupby(['user_id', 'ym']).amount\n",
    "    spend = g.sum()\n",
    "    count = g.size()\n",
    "    min_spend = spend.groupby('user_id').min()\n",
    "    min_count = count.groupby('user_id').min()\n",
    "\n",
    "    # keep users\n",
    "    users = (min_count >= 10) & (min_spend >= 200)\n",
    "    users = users[users].index\n",
    "\n",
    "    return df[df.user_id.isin(users)]\n",
    "\n",
    "%lprun -f fast fast(df)"
   ]
  },
  {
   "cell_type": "code",
   "execution_count": 68,
   "metadata": {},
   "outputs": [
    {
     "data": {
      "text/plain": [
       "user_id\n",
       "14777    True\n",
       "50777    True\n",
       "52777    True\n",
       "Name: amount, dtype: bool"
      ]
     },
     "execution_count": 68,
     "metadata": {},
     "output_type": "execute_result"
    }
   ],
   "source": [
    "# look at https://medium.com/@aivinsolatorio/optimizing-pandas-groupby-50x-using-numpy-to-speedup-an-agent-based-model-a-story-of-8b0d25614915\n",
    "\n",
    "# look at: https://github.com/mm-mansour/Fast-Pandas\n",
    "\n",
    "def fast(df):\n",
    "    \"\"\"\n",
    "    At least 5 monthly debits totalling GBP200.\n",
    "    Drops first and last month for each user due to possible partial data.\n",
    "    \"\"\"\n",
    "    data = df[['user_id', 'ym', 'amount']]\n",
    "\n",
    "    # keep debits\n",
    "    data = data[data.amount > 0]\n",
    "\n",
    "    # remove first and last month from each user\n",
    "    g = data.groupby('user_id')\n",
    "    first_month = g.ym.transform(min)\n",
    "    last_month = g.ym.transform(max)\n",
    "    data = data[(data.ym > first_month) & (data.ym < last_month)]\n",
    "\n",
    "    # calculate min spend and count per month per user\n",
    "    g = data.groupby(['user_id', 'ym']).amount\n",
    "    spend = g.sum()\n",
    "    count = g.size()\n",
    "    min_spend = spend.groupby('user_id').min()\n",
    "    min_count = count.groupby('user_id').min()\n",
    "\n",
    "    mask = (min_count >= 10) & (min_spend >= 200)\n",
    "\n",
    "    return mask\n",
    "\n",
    "fast(df)[:3]"
   ]
  },
  {
   "cell_type": "markdown",
   "metadata": {},
   "source": [
    "## Basics"
   ]
  },
  {
   "cell_type": "markdown",
   "metadata": {},
   "source": [
    "### Boolean comparisons"
   ]
  },
  {
   "cell_type": "code",
   "execution_count": 66,
   "metadata": {},
   "outputs": [],
   "source": [
    "df = sns.load_dataset('iris')"
   ]
  },
  {
   "cell_type": "code",
   "execution_count": 67,
   "metadata": {},
   "outputs": [
    {
     "name": "stdout",
     "output_type": "stream",
     "text": [
      "105 µs ± 2.61 µs per loop (mean ± std. dev. of 7 runs, 10000 loops each)\n"
     ]
    }
   ],
   "source": [
    "%timeit df.sepal_width > 3"
   ]
  },
  {
   "cell_type": "code",
   "execution_count": 68,
   "metadata": {},
   "outputs": [
    {
     "name": "stdout",
     "output_type": "stream",
     "text": [
      "6.11 µs ± 181 ns per loop (mean ± std. dev. of 7 runs, 100000 loops each)\n"
     ]
    }
   ],
   "source": [
    "%timeit df.sepal_width.values > 0"
   ]
  },
  {
   "cell_type": "markdown",
   "metadata": {},
   "source": [
    "Given the above, the below is rather surprising:"
   ]
  },
  {
   "cell_type": "code",
   "execution_count": 69,
   "metadata": {},
   "outputs": [
    {
     "name": "stdout",
     "output_type": "stream",
     "text": [
      "335 µs ± 23.3 µs per loop (mean ± std. dev. of 7 runs, 1000 loops each)\n"
     ]
    }
   ],
   "source": [
    "%timeit df[df.sepal_width > 3]"
   ]
  },
  {
   "cell_type": "code",
   "execution_count": 72,
   "metadata": {},
   "outputs": [
    {
     "name": "stdout",
     "output_type": "stream",
     "text": [
      "148 µs ± 6.14 µs per loop (mean ± std. dev. of 7 runs, 10000 loops each)\n"
     ]
    }
   ],
   "source": [
    "%timeit df[df.sepal_width.values > 3]"
   ]
  },
  {
   "cell_type": "markdown",
   "metadata": {},
   "source": [
    "### Group means\n",
    "\n",
    "From https://cmdlinetips.com/2019/05/how-to-implement-pandas-groupby-operation-with-numpy/\n",
    "\n"
   ]
  },
  {
   "cell_type": "code",
   "execution_count": 17,
   "metadata": {},
   "outputs": [],
   "source": [
    "df = sns.load_dataset('iris')"
   ]
  },
  {
   "cell_type": "code",
   "execution_count": 18,
   "metadata": {},
   "outputs": [
    {
     "name": "stdout",
     "output_type": "stream",
     "text": [
      "481 µs ± 11.1 µs per loop (mean ± std. dev. of 7 runs, 1000 loops each)\n"
     ]
    }
   ],
   "source": [
    "%timeit df.groupby('species').sepal_length.mean()"
   ]
  },
  {
   "cell_type": "code",
   "execution_count": 19,
   "metadata": {},
   "outputs": [
    {
     "name": "stdout",
     "output_type": "stream",
     "text": [
      "111 µs ± 7 µs per loop (mean ± std. dev. of 7 runs, 10000 loops each)\n"
     ]
    }
   ],
   "source": [
    "%%timeit\n",
    "\n",
    "spec = df.species.values\n",
    "sl = df.sepal_length.values\n",
    "groups = df.species.unique()\n",
    "[(group, np.mean(sl[spec == group])) for group in groups]"
   ]
  }
 ],
 "metadata": {
  "kernelspec": {
   "display_name": "habits",
   "language": "python",
   "name": "habits"
  },
  "language_info": {
   "codemirror_mode": {
    "name": "ipython",
    "version": 3
   },
   "file_extension": ".py",
   "mimetype": "text/x-python",
   "name": "python",
   "nbconvert_exporter": "python",
   "pygments_lexer": "ipython3",
   "version": "3.7.7"
  }
 },
 "nbformat": 4,
 "nbformat_minor": 4
}
