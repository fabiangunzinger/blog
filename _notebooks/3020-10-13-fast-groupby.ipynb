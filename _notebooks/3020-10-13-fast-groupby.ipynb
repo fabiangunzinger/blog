{
 "cells": [
  {
   "cell_type": "markdown",
   "metadata": {},
   "source": [
    "# Fast groupby operations\n",
    "\n",
    "- hide: true\n",
    "- category: [python, pandas]"
   ]
  },
  {
   "cell_type": "code",
   "execution_count": 3,
   "metadata": {},
   "outputs": [],
   "source": [
    "from imports import *\n",
    "\n",
    "%config InlineBackend.figure_format = 'retina'\n",
    "%load_ext autoreload\n",
    "%autoreload 2"
   ]
  },
  {
   "cell_type": "code",
   "execution_count": 2,
   "metadata": {},
   "outputs": [
    {
     "name": "stdout",
     "output_type": "stream",
     "text": [
      "(115197, 21)\n"
     ]
    },
    {
     "data": {
      "text/html": [
       "<div>\n",
       "<style scoped>\n",
       "    .dataframe tbody tr th:only-of-type {\n",
       "        vertical-align: middle;\n",
       "    }\n",
       "\n",
       "    .dataframe tbody tr th {\n",
       "        vertical-align: top;\n",
       "    }\n",
       "\n",
       "    .dataframe thead th {\n",
       "        text-align: right;\n",
       "    }\n",
       "</style>\n",
       "<table border=\"1\" class=\"dataframe\">\n",
       "  <thead>\n",
       "    <tr style=\"text-align: right;\">\n",
       "      <th></th>\n",
       "      <th>user_id</th>\n",
       "      <th>transaction_date</th>\n",
       "      <th>amount</th>\n",
       "      <th>transaction_description</th>\n",
       "      <th>merchant_name</th>\n",
       "      <th>tag</th>\n",
       "      <th>transaction_id</th>\n",
       "      <th>user_registration_date</th>\n",
       "      <th>account_last_refreshed</th>\n",
       "      <th>bank</th>\n",
       "      <th>latest_balance</th>\n",
       "      <th>year_of_birth</th>\n",
       "      <th>salary_range</th>\n",
       "      <th>gender</th>\n",
       "      <th>ym</th>\n",
       "      <th>credit_debit</th>\n",
       "      <th>account_id</th>\n",
       "      <th>postcode</th>\n",
       "      <th>account_created</th>\n",
       "      <th>account_type</th>\n",
       "      <th>merchant_business_line</th>\n",
       "    </tr>\n",
       "  </thead>\n",
       "  <tbody>\n",
       "    <tr>\n",
       "      <th>6553</th>\n",
       "      <td>14777</td>\n",
       "      <td>2012-10-10</td>\n",
       "      <td>5.00</td>\n",
       "      <td>new southern railw cd 7715</td>\n",
       "      <td>southern rail</td>\n",
       "      <td>public transport</td>\n",
       "      <td>2994290</td>\n",
       "      <td>2013-01-07</td>\n",
       "      <td>2015-01-13 05:19:00</td>\n",
       "      <td>lloyds bank</td>\n",
       "      <td>729.59</td>\n",
       "      <td>1986.0</td>\n",
       "      <td>NaN</td>\n",
       "      <td>m</td>\n",
       "      <td>2012-10</td>\n",
       "      <td>debit</td>\n",
       "      <td>247061</td>\n",
       "      <td>sw11 5</td>\n",
       "      <td>2013-01-07</td>\n",
       "      <td>current</td>\n",
       "      <td>southern rail</td>\n",
       "    </tr>\n",
       "    <tr>\n",
       "      <th>6554</th>\n",
       "      <td>14777</td>\n",
       "      <td>2012-10-10</td>\n",
       "      <td>11.10</td>\n",
       "      <td>new southern railw cd 7715</td>\n",
       "      <td>southern rail</td>\n",
       "      <td>public transport</td>\n",
       "      <td>2994291</td>\n",
       "      <td>2013-01-07</td>\n",
       "      <td>2015-01-13 05:19:00</td>\n",
       "      <td>lloyds bank</td>\n",
       "      <td>729.59</td>\n",
       "      <td>1986.0</td>\n",
       "      <td>NaN</td>\n",
       "      <td>m</td>\n",
       "      <td>2012-10</td>\n",
       "      <td>debit</td>\n",
       "      <td>247061</td>\n",
       "      <td>sw11 5</td>\n",
       "      <td>2013-01-07</td>\n",
       "      <td>current</td>\n",
       "      <td>southern rail</td>\n",
       "    </tr>\n",
       "    <tr>\n",
       "      <th>6555</th>\n",
       "      <td>14777</td>\n",
       "      <td>2012-10-10</td>\n",
       "      <td>26.91</td>\n",
       "      <td>ticketscript*14064 cd 7715</td>\n",
       "      <td>no merchant</td>\n",
       "      <td>public transport</td>\n",
       "      <td>2994292</td>\n",
       "      <td>2013-01-07</td>\n",
       "      <td>2015-01-13 05:19:00</td>\n",
       "      <td>lloyds bank</td>\n",
       "      <td>729.59</td>\n",
       "      <td>1986.0</td>\n",
       "      <td>NaN</td>\n",
       "      <td>m</td>\n",
       "      <td>2012-10</td>\n",
       "      <td>debit</td>\n",
       "      <td>247061</td>\n",
       "      <td>sw11 5</td>\n",
       "      <td>2013-01-07</td>\n",
       "      <td>current</td>\n",
       "      <td>unknown merchant</td>\n",
       "    </tr>\n",
       "    <tr>\n",
       "      <th>6556</th>\n",
       "      <td>14777</td>\n",
       "      <td>2012-10-10</td>\n",
       "      <td>83.20</td>\n",
       "      <td>selfserve ticket cd 2412</td>\n",
       "      <td>south west trains</td>\n",
       "      <td>public transport</td>\n",
       "      <td>2994293</td>\n",
       "      <td>2013-01-07</td>\n",
       "      <td>2015-01-13 05:19:00</td>\n",
       "      <td>lloyds bank</td>\n",
       "      <td>729.59</td>\n",
       "      <td>1986.0</td>\n",
       "      <td>NaN</td>\n",
       "      <td>m</td>\n",
       "      <td>2012-10</td>\n",
       "      <td>debit</td>\n",
       "      <td>247061</td>\n",
       "      <td>sw11 5</td>\n",
       "      <td>2013-01-07</td>\n",
       "      <td>current</td>\n",
       "      <td>south west trains</td>\n",
       "    </tr>\n",
       "    <tr>\n",
       "      <th>6557</th>\n",
       "      <td>14777</td>\n",
       "      <td>2012-10-11</td>\n",
       "      <td>19.00</td>\n",
       "      <td>liv*livingsocial cd 7715</td>\n",
       "      <td>no merchant</td>\n",
       "      <td>dining and drinking</td>\n",
       "      <td>2994289</td>\n",
       "      <td>2013-01-07</td>\n",
       "      <td>2015-01-13 05:19:00</td>\n",
       "      <td>lloyds bank</td>\n",
       "      <td>729.59</td>\n",
       "      <td>1986.0</td>\n",
       "      <td>NaN</td>\n",
       "      <td>m</td>\n",
       "      <td>2012-10</td>\n",
       "      <td>debit</td>\n",
       "      <td>247061</td>\n",
       "      <td>sw11 5</td>\n",
       "      <td>2013-01-07</td>\n",
       "      <td>current</td>\n",
       "      <td>unknown merchant</td>\n",
       "    </tr>\n",
       "  </tbody>\n",
       "</table>\n",
       "</div>"
      ],
      "text/plain": [
       "      user_id transaction_date  amount     transaction_description  \\\n",
       "6553    14777       2012-10-10    5.00  new southern railw cd 7715   \n",
       "6554    14777       2012-10-10   11.10  new southern railw cd 7715   \n",
       "6555    14777       2012-10-10   26.91  ticketscript*14064 cd 7715   \n",
       "6556    14777       2012-10-10   83.20    selfserve ticket cd 2412   \n",
       "6557    14777       2012-10-11   19.00    liv*livingsocial cd 7715   \n",
       "\n",
       "          merchant_name                  tag  transaction_id  \\\n",
       "6553      southern rail     public transport         2994290   \n",
       "6554      southern rail     public transport         2994291   \n",
       "6555        no merchant     public transport         2994292   \n",
       "6556  south west trains     public transport         2994293   \n",
       "6557        no merchant  dining and drinking         2994289   \n",
       "\n",
       "     user_registration_date account_last_refreshed         bank  \\\n",
       "6553             2013-01-07    2015-01-13 05:19:00  lloyds bank   \n",
       "6554             2013-01-07    2015-01-13 05:19:00  lloyds bank   \n",
       "6555             2013-01-07    2015-01-13 05:19:00  lloyds bank   \n",
       "6556             2013-01-07    2015-01-13 05:19:00  lloyds bank   \n",
       "6557             2013-01-07    2015-01-13 05:19:00  lloyds bank   \n",
       "\n",
       "      latest_balance  year_of_birth salary_range gender       ym credit_debit  \\\n",
       "6553          729.59         1986.0          NaN      m  2012-10        debit   \n",
       "6554          729.59         1986.0          NaN      m  2012-10        debit   \n",
       "6555          729.59         1986.0          NaN      m  2012-10        debit   \n",
       "6556          729.59         1986.0          NaN      m  2012-10        debit   \n",
       "6557          729.59         1986.0          NaN      m  2012-10        debit   \n",
       "\n",
       "      account_id postcode account_created account_type merchant_business_line  \n",
       "6553      247061   sw11 5      2013-01-07      current          southern rail  \n",
       "6554      247061   sw11 5      2013-01-07      current          southern rail  \n",
       "6555      247061   sw11 5      2013-01-07      current       unknown merchant  \n",
       "6556      247061   sw11 5      2013-01-07      current      south west trains  \n",
       "6557      247061   sw11 5      2013-01-07      current       unknown merchant  "
      ]
     },
     "execution_count": 2,
     "metadata": {},
     "output_type": "execute_result"
    }
   ],
   "source": [
    "path = '/Users/fgu/tmp/data_777.parquet'\n",
    "df = pd.read_parquet(path)\n",
    "print(df.shape)\n",
    "df.head()"
   ]
  },
  {
   "cell_type": "markdown",
   "metadata": {},
   "source": [
    "## Applications"
   ]
  },
  {
   "cell_type": "code",
   "execution_count": null,
   "metadata": {},
   "outputs": [],
   "source": [
    "def min_txns_and_spend(df, min_txns=10, min_spend=300):\n",
    "    \"\"\"At least 5 monthly debits totalling GBP200.\n",
    "    Drops first and last month for each user due to possible partial data.\n",
    "    \"\"\"\n",
    "    cols = ['user_id', 'transaction_date', 'amount']\n",
    "    spend = df.loc[df.amount > 0, cols]\n",
    "    spend = spend.set_index('transaction_date')\n",
    "    spend['ym'] = df.transaction_date.dt.to_period('M')\n",
    "\n",
    "    g = spend.groupby('user_id')\n",
    "    spend['first_month'] = g.ym.transform(min)\n",
    "    spend['last_month'] = g.ym.transform(max)\n",
    "    spend = spend[(spend.ym != spend.first_month)\n",
    "                  & (spend.ym != spend.last_month)]\n",
    "\n",
    "    mins = (spend.groupby('user_id')\n",
    "            .resample('M').amount.agg(['count', 'sum'])\n",
    "            .groupby('user_id').min())\n",
    "    mask = (mins >= (min_txns, min_spend)).all(1)\n",
    "    users = mins[mask].index\n",
    "    return df[df.user_id.isin(users)]\n",
    "\n",
    "min_txns_and_spend(df)"
   ]
  },
  {
   "cell_type": "markdown",
   "metadata": {},
   "source": [
    "## Basics"
   ]
  },
  {
   "cell_type": "markdown",
   "metadata": {},
   "source": [
    "### Boolean comparisons"
   ]
  },
  {
   "cell_type": "code",
   "execution_count": 25,
   "metadata": {},
   "outputs": [],
   "source": [
    "df = sns.load_dataset('iris')"
   ]
  },
  {
   "cell_type": "code",
   "execution_count": 23,
   "metadata": {},
   "outputs": [
    {
     "name": "stdout",
     "output_type": "stream",
     "text": [
      "108 µs ± 4.92 µs per loop (mean ± std. dev. of 7 runs, 10000 loops each)\n"
     ]
    }
   ],
   "source": [
    "%timeit df.sepal_width > 3"
   ]
  },
  {
   "cell_type": "code",
   "execution_count": 24,
   "metadata": {},
   "outputs": [
    {
     "name": "stdout",
     "output_type": "stream",
     "text": [
      "6.03 µs ± 225 ns per loop (mean ± std. dev. of 7 runs, 100000 loops each)\n"
     ]
    }
   ],
   "source": [
    "%timeit df.sepal_width.values > 0"
   ]
  },
  {
   "cell_type": "markdown",
   "metadata": {},
   "source": [
    "### Group means\n",
    "\n",
    "From https://cmdlinetips.com/2019/05/how-to-implement-pandas-groupby-operation-with-numpy/\n",
    "\n"
   ]
  },
  {
   "cell_type": "code",
   "execution_count": 17,
   "metadata": {},
   "outputs": [],
   "source": [
    "df = sns.load_dataset('iris')"
   ]
  },
  {
   "cell_type": "code",
   "execution_count": 18,
   "metadata": {},
   "outputs": [
    {
     "name": "stdout",
     "output_type": "stream",
     "text": [
      "481 µs ± 11.1 µs per loop (mean ± std. dev. of 7 runs, 1000 loops each)\n"
     ]
    }
   ],
   "source": [
    "%timeit df.groupby('species').sepal_length.mean()"
   ]
  },
  {
   "cell_type": "code",
   "execution_count": 19,
   "metadata": {},
   "outputs": [
    {
     "name": "stdout",
     "output_type": "stream",
     "text": [
      "111 µs ± 7 µs per loop (mean ± std. dev. of 7 runs, 10000 loops each)\n"
     ]
    }
   ],
   "source": [
    "%%timeit\n",
    "\n",
    "spec = df.species.values\n",
    "sl = df.sepal_length.values\n",
    "groups = df.species.unique()\n",
    "[(group, np.mean(sl[spec == group])) for group in groups]"
   ]
  }
 ],
 "metadata": {
  "kernelspec": {
   "display_name": "habits",
   "language": "python",
   "name": "habits"
  },
  "language_info": {
   "codemirror_mode": {
    "name": "ipython",
    "version": 3
   },
   "file_extension": ".py",
   "mimetype": "text/x-python",
   "name": "python",
   "nbconvert_exporter": "python",
   "pygments_lexer": "ipython3",
   "version": "3.7.7"
  }
 },
 "nbformat": 4,
 "nbformat_minor": 4
}
