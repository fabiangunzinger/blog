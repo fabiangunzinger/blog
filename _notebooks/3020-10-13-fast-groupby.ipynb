{
 "cells": [
  {
   "cell_type": "markdown",
   "metadata": {},
   "source": [
    "# Fast groupby operations\n",
    "\n",
    "- hide: true\n",
    "- category: [python, pandas]"
   ]
  },
  {
   "cell_type": "code",
   "execution_count": 1,
   "metadata": {},
   "outputs": [],
   "source": [
    "from imports import *\n",
    "\n",
    "%config InlineBackend.figure_format = 'retina'\n",
    "%load_ext autoreload\n",
    "%autoreload 2"
   ]
  },
  {
   "cell_type": "code",
   "execution_count": 2,
   "metadata": {},
   "outputs": [
    {
     "data": {
      "text/plain": [
       "'/Users/fgu/dev/projects/blog/_notebooks'"
      ]
     },
     "execution_count": 2,
     "metadata": {},
     "output_type": "execute_result"
    }
   ],
   "source": [
    "pd.read_csv"
   ]
  },
  {
   "cell_type": "code",
   "execution_count": 79,
   "metadata": {},
   "outputs": [
    {
     "name": "stdout",
     "output_type": "stream",
     "text": [
      "(115197, 21)\n"
     ]
    },
    {
     "data": {
      "text/html": [
       "<div>\n",
       "<style scoped>\n",
       "    .dataframe tbody tr th:only-of-type {\n",
       "        vertical-align: middle;\n",
       "    }\n",
       "\n",
       "    .dataframe tbody tr th {\n",
       "        vertical-align: top;\n",
       "    }\n",
       "\n",
       "    .dataframe thead th {\n",
       "        text-align: right;\n",
       "    }\n",
       "</style>\n",
       "<table border=\"1\" class=\"dataframe\">\n",
       "  <thead>\n",
       "    <tr style=\"text-align: right;\">\n",
       "      <th></th>\n",
       "      <th>user_id</th>\n",
       "      <th>transaction_date</th>\n",
       "      <th>amount</th>\n",
       "      <th>transaction_description</th>\n",
       "      <th>merchant_name</th>\n",
       "      <th>tag</th>\n",
       "      <th>gender</th>\n",
       "      <th>transaction_id</th>\n",
       "      <th>bank</th>\n",
       "      <th>account_created</th>\n",
       "      <th>account_type</th>\n",
       "      <th>postcode</th>\n",
       "      <th>merchant_business_line</th>\n",
       "      <th>ym</th>\n",
       "      <th>account_id</th>\n",
       "      <th>year_of_birth</th>\n",
       "      <th>user_registration_date</th>\n",
       "      <th>salary_range</th>\n",
       "      <th>credit_debit</th>\n",
       "      <th>account_last_refreshed</th>\n",
       "      <th>latest_balance</th>\n",
       "    </tr>\n",
       "  </thead>\n",
       "  <tbody>\n",
       "    <tr>\n",
       "      <th>6553</th>\n",
       "      <td>14777</td>\n",
       "      <td>2012-10-10</td>\n",
       "      <td>5.00</td>\n",
       "      <td>new southern railw cd 7715</td>\n",
       "      <td>southern rail</td>\n",
       "      <td>public transport</td>\n",
       "      <td>m</td>\n",
       "      <td>2994290</td>\n",
       "      <td>lloyds bank</td>\n",
       "      <td>2013-01-07</td>\n",
       "      <td>current</td>\n",
       "      <td>sw11 5</td>\n",
       "      <td>southern rail</td>\n",
       "      <td>201210</td>\n",
       "      <td>247061</td>\n",
       "      <td>1986.0</td>\n",
       "      <td>2013-01-07</td>\n",
       "      <td>NaN</td>\n",
       "      <td>debit</td>\n",
       "      <td>2015-01-13 05:19:00</td>\n",
       "      <td>729.59</td>\n",
       "    </tr>\n",
       "    <tr>\n",
       "      <th>6554</th>\n",
       "      <td>14777</td>\n",
       "      <td>2012-10-10</td>\n",
       "      <td>11.10</td>\n",
       "      <td>new southern railw cd 7715</td>\n",
       "      <td>southern rail</td>\n",
       "      <td>public transport</td>\n",
       "      <td>m</td>\n",
       "      <td>2994291</td>\n",
       "      <td>lloyds bank</td>\n",
       "      <td>2013-01-07</td>\n",
       "      <td>current</td>\n",
       "      <td>sw11 5</td>\n",
       "      <td>southern rail</td>\n",
       "      <td>201210</td>\n",
       "      <td>247061</td>\n",
       "      <td>1986.0</td>\n",
       "      <td>2013-01-07</td>\n",
       "      <td>NaN</td>\n",
       "      <td>debit</td>\n",
       "      <td>2015-01-13 05:19:00</td>\n",
       "      <td>729.59</td>\n",
       "    </tr>\n",
       "    <tr>\n",
       "      <th>6555</th>\n",
       "      <td>14777</td>\n",
       "      <td>2012-10-10</td>\n",
       "      <td>26.91</td>\n",
       "      <td>ticketscript*14064 cd 7715</td>\n",
       "      <td>no merchant</td>\n",
       "      <td>public transport</td>\n",
       "      <td>m</td>\n",
       "      <td>2994292</td>\n",
       "      <td>lloyds bank</td>\n",
       "      <td>2013-01-07</td>\n",
       "      <td>current</td>\n",
       "      <td>sw11 5</td>\n",
       "      <td>unknown merchant</td>\n",
       "      <td>201210</td>\n",
       "      <td>247061</td>\n",
       "      <td>1986.0</td>\n",
       "      <td>2013-01-07</td>\n",
       "      <td>NaN</td>\n",
       "      <td>debit</td>\n",
       "      <td>2015-01-13 05:19:00</td>\n",
       "      <td>729.59</td>\n",
       "    </tr>\n",
       "    <tr>\n",
       "      <th>6556</th>\n",
       "      <td>14777</td>\n",
       "      <td>2012-10-10</td>\n",
       "      <td>83.20</td>\n",
       "      <td>selfserve ticket cd 2412</td>\n",
       "      <td>south west trains</td>\n",
       "      <td>public transport</td>\n",
       "      <td>m</td>\n",
       "      <td>2994293</td>\n",
       "      <td>lloyds bank</td>\n",
       "      <td>2013-01-07</td>\n",
       "      <td>current</td>\n",
       "      <td>sw11 5</td>\n",
       "      <td>south west trains</td>\n",
       "      <td>201210</td>\n",
       "      <td>247061</td>\n",
       "      <td>1986.0</td>\n",
       "      <td>2013-01-07</td>\n",
       "      <td>NaN</td>\n",
       "      <td>debit</td>\n",
       "      <td>2015-01-13 05:19:00</td>\n",
       "      <td>729.59</td>\n",
       "    </tr>\n",
       "    <tr>\n",
       "      <th>6557</th>\n",
       "      <td>14777</td>\n",
       "      <td>2012-10-11</td>\n",
       "      <td>19.00</td>\n",
       "      <td>liv*livingsocial cd 7715</td>\n",
       "      <td>no merchant</td>\n",
       "      <td>dining and drinking</td>\n",
       "      <td>m</td>\n",
       "      <td>2994289</td>\n",
       "      <td>lloyds bank</td>\n",
       "      <td>2013-01-07</td>\n",
       "      <td>current</td>\n",
       "      <td>sw11 5</td>\n",
       "      <td>unknown merchant</td>\n",
       "      <td>201210</td>\n",
       "      <td>247061</td>\n",
       "      <td>1986.0</td>\n",
       "      <td>2013-01-07</td>\n",
       "      <td>NaN</td>\n",
       "      <td>debit</td>\n",
       "      <td>2015-01-13 05:19:00</td>\n",
       "      <td>729.59</td>\n",
       "    </tr>\n",
       "  </tbody>\n",
       "</table>\n",
       "</div>"
      ],
      "text/plain": [
       "      user_id transaction_date  amount     transaction_description  \\\n",
       "6553    14777       2012-10-10    5.00  new southern railw cd 7715   \n",
       "6554    14777       2012-10-10   11.10  new southern railw cd 7715   \n",
       "6555    14777       2012-10-10   26.91  ticketscript*14064 cd 7715   \n",
       "6556    14777       2012-10-10   83.20    selfserve ticket cd 2412   \n",
       "6557    14777       2012-10-11   19.00    liv*livingsocial cd 7715   \n",
       "\n",
       "          merchant_name                  tag gender  transaction_id  \\\n",
       "6553      southern rail     public transport      m         2994290   \n",
       "6554      southern rail     public transport      m         2994291   \n",
       "6555        no merchant     public transport      m         2994292   \n",
       "6556  south west trains     public transport      m         2994293   \n",
       "6557        no merchant  dining and drinking      m         2994289   \n",
       "\n",
       "             bank account_created account_type postcode  \\\n",
       "6553  lloyds bank      2013-01-07      current   sw11 5   \n",
       "6554  lloyds bank      2013-01-07      current   sw11 5   \n",
       "6555  lloyds bank      2013-01-07      current   sw11 5   \n",
       "6556  lloyds bank      2013-01-07      current   sw11 5   \n",
       "6557  lloyds bank      2013-01-07      current   sw11 5   \n",
       "\n",
       "     merchant_business_line      ym  account_id  year_of_birth  \\\n",
       "6553          southern rail  201210      247061         1986.0   \n",
       "6554          southern rail  201210      247061         1986.0   \n",
       "6555       unknown merchant  201210      247061         1986.0   \n",
       "6556      south west trains  201210      247061         1986.0   \n",
       "6557       unknown merchant  201210      247061         1986.0   \n",
       "\n",
       "     user_registration_date salary_range credit_debit account_last_refreshed  \\\n",
       "6553             2013-01-07          NaN        debit    2015-01-13 05:19:00   \n",
       "6554             2013-01-07          NaN        debit    2015-01-13 05:19:00   \n",
       "6555             2013-01-07          NaN        debit    2015-01-13 05:19:00   \n",
       "6556             2013-01-07          NaN        debit    2015-01-13 05:19:00   \n",
       "6557             2013-01-07          NaN        debit    2015-01-13 05:19:00   \n",
       "\n",
       "      latest_balance  \n",
       "6553          729.59  \n",
       "6554          729.59  \n",
       "6555          729.59  \n",
       "6556          729.59  \n",
       "6557          729.59  "
      ]
     },
     "execution_count": 79,
     "metadata": {},
     "output_type": "execute_result"
    }
   ],
   "source": [
    "path = '/Users/fgu/tmp/data_777.parquet'\n",
    "df = pd.read_parquet(path)\n",
    "print(df.shape)\n",
    "df.head()"
   ]
  },
  {
   "cell_type": "markdown",
   "metadata": {},
   "source": [
    "## Applications"
   ]
  },
  {
   "cell_type": "markdown",
   "metadata": {},
   "source": [
    "Baseline function to filter out users with minumum number of transactions and spend in each month."
   ]
  },
  {
   "cell_type": "code",
   "execution_count": 41,
   "metadata": {},
   "outputs": [
    {
     "name": "stdout",
     "output_type": "stream",
     "text": [
      "526 ms ± 17.3 ms per loop (mean ± std. dev. of 7 runs, 1 loop each)\n"
     ]
    }
   ],
   "source": [
    "def min_txns_and_spend(df, min_txns=10, min_spend=300):\n",
    "    \"\"\"At least 5 monthly debits totalling GBP200.\n",
    "    Drops first and last month for each user due to possible partial data.\n",
    "    \"\"\"\n",
    "    cols = ['user_id', 'transaction_date', 'amount']\n",
    "    spend = df.loc[df.amount > 0, cols]\n",
    "    spend = spend.set_index('transaction_date')\n",
    "    spend['ym'] = df.transaction_date.dt.to_period('M')\n",
    "\n",
    "    g = spend.groupby('user_id')\n",
    "    spend['first_month'] = g.ym.transform(min)\n",
    "    spend['last_month'] = g.ym.transform(max)\n",
    "    spend = spend[(spend.ym != spend.first_month)\n",
    "                  & (spend.ym != spend.last_month)]\n",
    "\n",
    "    mins = (spend.groupby('user_id')\n",
    "            .resample('M').amount.agg(['count', 'sum'])\n",
    "            .groupby('user_id').min())\n",
    "    mask = (mins >= (min_txns, min_spend)).all(1)\n",
    "    users = mins[mask].index\n",
    "    return df[df.user_id.isin(users)]\n",
    "\n",
    "%timeit min_txns_and_spend(df)"
   ]
  },
  {
   "cell_type": "code",
   "execution_count": 164,
   "metadata": {},
   "outputs": [
    {
     "name": "stdout",
     "output_type": "stream",
     "text": [
      "10.9 ms ± 176 µs per loop (mean ± std. dev. of 7 runs, 100 loops each)\n"
     ]
    }
   ],
   "source": [
    "%%timeit\n",
    "\n",
    "\"\"\"\n",
    "At least 5 monthly debits totalling GBP200.\n",
    "Drops first and last month for each user due to possible partial data.\n",
    "\"\"\"\n",
    "data = df[['user_id', 'ym', 'amount']]\n",
    "\n",
    "# keep debits\n",
    "data = data[data.amount > 0]\n",
    "\n",
    "# remove first and last month from each user\n",
    "g = data.groupby('user_id')\n",
    "first_month = g.ym.transform(min)\n",
    "last_month = g.ym.transform(max)\n",
    "data[(data.ym > first_month) & (data.ym < last_month)]\n",
    "\n",
    "# calculate more stuff\n",
    "# g = data.groupby(['user_id', 'ym'])\n",
    "# large_spend = g.amount.sum() > 200\n",
    "# large_spend.groupby('user_id').sum()\n",
    "# large_spend.groupby('user_id').iloc[1:-1]"
   ]
  },
  {
   "cell_type": "markdown",
   "metadata": {},
   "source": [
    "## Basics"
   ]
  },
  {
   "cell_type": "markdown",
   "metadata": {},
   "source": [
    "### Boolean comparisons"
   ]
  },
  {
   "cell_type": "code",
   "execution_count": 66,
   "metadata": {},
   "outputs": [],
   "source": [
    "df = sns.load_dataset('iris')"
   ]
  },
  {
   "cell_type": "code",
   "execution_count": 67,
   "metadata": {},
   "outputs": [
    {
     "name": "stdout",
     "output_type": "stream",
     "text": [
      "105 µs ± 2.61 µs per loop (mean ± std. dev. of 7 runs, 10000 loops each)\n"
     ]
    }
   ],
   "source": [
    "%timeit df.sepal_width > 3"
   ]
  },
  {
   "cell_type": "code",
   "execution_count": 68,
   "metadata": {},
   "outputs": [
    {
     "name": "stdout",
     "output_type": "stream",
     "text": [
      "6.11 µs ± 181 ns per loop (mean ± std. dev. of 7 runs, 100000 loops each)\n"
     ]
    }
   ],
   "source": [
    "%timeit df.sepal_width.values > 0"
   ]
  },
  {
   "cell_type": "markdown",
   "metadata": {},
   "source": [
    "Given the above, the below is rather surprising:"
   ]
  },
  {
   "cell_type": "code",
   "execution_count": 69,
   "metadata": {},
   "outputs": [
    {
     "name": "stdout",
     "output_type": "stream",
     "text": [
      "335 µs ± 23.3 µs per loop (mean ± std. dev. of 7 runs, 1000 loops each)\n"
     ]
    }
   ],
   "source": [
    "%timeit df[df.sepal_width > 3]"
   ]
  },
  {
   "cell_type": "code",
   "execution_count": 72,
   "metadata": {},
   "outputs": [
    {
     "name": "stdout",
     "output_type": "stream",
     "text": [
      "148 µs ± 6.14 µs per loop (mean ± std. dev. of 7 runs, 10000 loops each)\n"
     ]
    }
   ],
   "source": [
    "%timeit df[df.sepal_width.values > 3]"
   ]
  },
  {
   "cell_type": "markdown",
   "metadata": {},
   "source": [
    "### Group means\n",
    "\n",
    "From https://cmdlinetips.com/2019/05/how-to-implement-pandas-groupby-operation-with-numpy/\n",
    "\n"
   ]
  },
  {
   "cell_type": "code",
   "execution_count": 17,
   "metadata": {},
   "outputs": [],
   "source": [
    "df = sns.load_dataset('iris')"
   ]
  },
  {
   "cell_type": "code",
   "execution_count": 18,
   "metadata": {},
   "outputs": [
    {
     "name": "stdout",
     "output_type": "stream",
     "text": [
      "481 µs ± 11.1 µs per loop (mean ± std. dev. of 7 runs, 1000 loops each)\n"
     ]
    }
   ],
   "source": [
    "%timeit df.groupby('species').sepal_length.mean()"
   ]
  },
  {
   "cell_type": "code",
   "execution_count": 19,
   "metadata": {},
   "outputs": [
    {
     "name": "stdout",
     "output_type": "stream",
     "text": [
      "111 µs ± 7 µs per loop (mean ± std. dev. of 7 runs, 10000 loops each)\n"
     ]
    }
   ],
   "source": [
    "%%timeit\n",
    "\n",
    "spec = df.species.values\n",
    "sl = df.sepal_length.values\n",
    "groups = df.species.unique()\n",
    "[(group, np.mean(sl[spec == group])) for group in groups]"
   ]
  }
 ],
 "metadata": {
  "kernelspec": {
   "display_name": "habits",
   "language": "python",
   "name": "habits"
  },
  "language_info": {
   "codemirror_mode": {
    "name": "ipython",
    "version": 3
   },
   "file_extension": ".py",
   "mimetype": "text/x-python",
   "name": "python",
   "nbconvert_exporter": "python",
   "pygments_lexer": "ipython3",
   "version": "3.7.7"
  }
 },
 "nbformat": 4,
 "nbformat_minor": 4
}
