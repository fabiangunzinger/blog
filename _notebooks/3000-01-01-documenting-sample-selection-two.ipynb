{
 "cells": [
  {
   "cell_type": "markdown",
   "metadata": {},
   "source": [
    "# Documenting sample selection (part 2)\n",
    "<!-- > \"Using decorator to document sample selection process.\" -->\n",
    "\n",
    "- hide:true\n",
    "- toc: true\n",
    "- badges: true\n",
    "- comments: true\n",
    "- categories: [python]"
   ]
  },
  {
   "cell_type": "code",
   "execution_count": 1,
   "metadata": {},
   "outputs": [],
   "source": [
    "from collections import Counter, OrderedDict\n",
    "from functools import wraps\n",
    "\n",
    "import pandas as pd\n",
    "import numpy as np"
   ]
  },
  {
   "cell_type": "markdown",
   "metadata": {},
   "source": [
    "First, build a counter object."
   ]
  },
  {
   "cell_type": "code",
   "execution_count": 12,
   "metadata": {},
   "outputs": [
    {
     "data": {
      "text/plain": [
       "OrderedCounter(OrderedDict([('a', 1), ('b', 2)]))"
      ]
     },
     "execution_count": 12,
     "metadata": {},
     "output_type": "execute_result"
    }
   ],
   "source": [
    "class OrderedCounter(Counter, OrderedDict):\n",
    "    'Counter that remembers the order elements are first encountered'\n",
    "\n",
    "    def __repr__(self):\n",
    "        return '{!s}({!r})'.format(self.__class__.__name__, OrderedDict(self))\n",
    "\n",
    "    def __reduce__(self):\n",
    "        return self.__class__, (OrderedDict(self),)\n",
    "    \n",
    "OrderedCounter({'a': 1, 'b': 2})"
   ]
  },
  {
   "cell_type": "markdown",
   "metadata": {},
   "source": [
    "Method resolution order:"
   ]
  },
  {
   "cell_type": "code",
   "execution_count": 3,
   "metadata": {},
   "outputs": [
    {
     "data": {
      "text/plain": [
       "(__main__.OrderedCounter,\n",
       " collections.Counter,\n",
       " collections.OrderedDict,\n",
       " dict,\n",
       " object)"
      ]
     },
     "execution_count": 3,
     "metadata": {},
     "output_type": "execute_result"
    }
   ],
   "source": [
    "OrderedCounter.__mro__"
   ]
  },
  {
   "cell_type": "code",
   "execution_count": 58,
   "metadata": {},
   "outputs": [
    {
     "data": {
      "text/html": [
       "<div>\n",
       "<style scoped>\n",
       "    .dataframe tbody tr th:only-of-type {\n",
       "        vertical-align: middle;\n",
       "    }\n",
       "\n",
       "    .dataframe tbody tr th {\n",
       "        vertical-align: top;\n",
       "    }\n",
       "\n",
       "    .dataframe thead th {\n",
       "        text-align: right;\n",
       "    }\n",
       "</style>\n",
       "<table border=\"1\" class=\"dataframe\">\n",
       "  <thead>\n",
       "    <tr style=\"text-align: right;\">\n",
       "      <th></th>\n",
       "      <th>step</th>\n",
       "      <th>counts</th>\n",
       "    </tr>\n",
       "  </thead>\n",
       "  <tbody>\n",
       "    <tr>\n",
       "      <th>0</th>\n",
       "      <td>start-users</td>\n",
       "      <td>283.0</td>\n",
       "    </tr>\n",
       "    <tr>\n",
       "      <th>1</th>\n",
       "      <td>start-txs</td>\n",
       "      <td>662580.0</td>\n",
       "    </tr>\n",
       "    <tr>\n",
       "      <th>2</th>\n",
       "      <td>start-value</td>\n",
       "      <td>122286176.0</td>\n",
       "    </tr>\n",
       "    <tr>\n",
       "      <th>3</th>\n",
       "      <td>drop_noise-users</td>\n",
       "      <td>283.0</td>\n",
       "    </tr>\n",
       "    <tr>\n",
       "      <th>4</th>\n",
       "      <td>drop_noise-txs</td>\n",
       "      <td>662580.0</td>\n",
       "    </tr>\n",
       "  </tbody>\n",
       "</table>\n",
       "</div>"
      ],
      "text/plain": [
       "               step       counts\n",
       "0       start-users        283.0\n",
       "1         start-txs     662580.0\n",
       "2       start-value  122286176.0\n",
       "3  drop_noise-users        283.0\n",
       "4    drop_noise-txs     662580.0"
      ]
     },
     "execution_count": 58,
     "metadata": {},
     "output_type": "execute_result"
    }
   ],
   "source": [
    "df = pd.read_csv('/Users/fgu/tmp/tab.csv').iloc[:, 1:]\n",
    "df.head()"
   ]
  },
  {
   "cell_type": "code",
   "execution_count": 59,
   "metadata": {},
   "outputs": [
    {
     "data": {
      "text/html": [
       "<div>\n",
       "<style scoped>\n",
       "    .dataframe tbody tr th:only-of-type {\n",
       "        vertical-align: middle;\n",
       "    }\n",
       "\n",
       "    .dataframe tbody tr th {\n",
       "        vertical-align: top;\n",
       "    }\n",
       "\n",
       "    .dataframe thead th {\n",
       "        text-align: right;\n",
       "    }\n",
       "</style>\n",
       "<table border=\"1\" class=\"dataframe\">\n",
       "  <thead>\n",
       "    <tr style=\"text-align: right;\">\n",
       "      <th></th>\n",
       "      <th>step</th>\n",
       "      <th>counts</th>\n",
       "      <th>metric</th>\n",
       "    </tr>\n",
       "  </thead>\n",
       "  <tbody>\n",
       "    <tr>\n",
       "      <th>0</th>\n",
       "      <td>start</td>\n",
       "      <td>283.0</td>\n",
       "      <td>users</td>\n",
       "    </tr>\n",
       "    <tr>\n",
       "      <th>1</th>\n",
       "      <td>start</td>\n",
       "      <td>662580.0</td>\n",
       "      <td>txs</td>\n",
       "    </tr>\n",
       "    <tr>\n",
       "      <th>2</th>\n",
       "      <td>start</td>\n",
       "      <td>122286176.0</td>\n",
       "      <td>value</td>\n",
       "    </tr>\n",
       "    <tr>\n",
       "      <th>3</th>\n",
       "      <td>drop_noise</td>\n",
       "      <td>283.0</td>\n",
       "      <td>users</td>\n",
       "    </tr>\n",
       "    <tr>\n",
       "      <th>4</th>\n",
       "      <td>drop_noise</td>\n",
       "      <td>662580.0</td>\n",
       "      <td>txs</td>\n",
       "    </tr>\n",
       "  </tbody>\n",
       "</table>\n",
       "</div>"
      ],
      "text/plain": [
       "         step       counts metric\n",
       "0       start        283.0  users\n",
       "1       start     662580.0    txs\n",
       "2       start  122286176.0  value\n",
       "3  drop_noise        283.0  users\n",
       "4  drop_noise     662580.0    txs"
      ]
     },
     "execution_count": 59,
     "metadata": {},
     "output_type": "execute_result"
    }
   ],
   "source": [
    "df[['step', 'metric']] = df.step.str.split('-', expand=True)\n",
    "df.head()"
   ]
  },
  {
   "cell_type": "markdown",
   "metadata": {},
   "source": [
    "From here: https://stackoverflow.com/a/44988732/13666841"
   ]
  },
  {
   "cell_type": "code",
   "execution_count": 60,
   "metadata": {},
   "outputs": [
    {
     "data": {
      "text/html": [
       "<div>\n",
       "<style scoped>\n",
       "    .dataframe tbody tr th:only-of-type {\n",
       "        vertical-align: middle;\n",
       "    }\n",
       "\n",
       "    .dataframe tbody tr th {\n",
       "        vertical-align: top;\n",
       "    }\n",
       "\n",
       "    .dataframe thead th {\n",
       "        text-align: right;\n",
       "    }\n",
       "</style>\n",
       "<table border=\"1\" class=\"dataframe\">\n",
       "  <thead>\n",
       "    <tr style=\"text-align: right;\">\n",
       "      <th></th>\n",
       "      <th>step</th>\n",
       "      <th>users</th>\n",
       "      <th>txs</th>\n",
       "      <th>value</th>\n",
       "    </tr>\n",
       "  </thead>\n",
       "  <tbody>\n",
       "    <tr>\n",
       "      <th>0</th>\n",
       "      <td>start</td>\n",
       "      <td>283.0</td>\n",
       "      <td>662580.0</td>\n",
       "      <td>1.222862e+08</td>\n",
       "    </tr>\n",
       "    <tr>\n",
       "      <th>1</th>\n",
       "      <td>drop_noise</td>\n",
       "      <td>283.0</td>\n",
       "      <td>662580.0</td>\n",
       "      <td>1.222862e+08</td>\n",
       "    </tr>\n",
       "    <tr>\n",
       "      <th>2</th>\n",
       "      <td>min_number_of_months</td>\n",
       "      <td>239.0</td>\n",
       "      <td>653239.0</td>\n",
       "      <td>1.207088e+08</td>\n",
       "    </tr>\n",
       "    <tr>\n",
       "      <th>3</th>\n",
       "      <td>current_account</td>\n",
       "      <td>227.0</td>\n",
       "      <td>636792.0</td>\n",
       "      <td>1.185223e+08</td>\n",
       "    </tr>\n",
       "    <tr>\n",
       "      <th>4</th>\n",
       "      <td>min_spend</td>\n",
       "      <td>151.0</td>\n",
       "      <td>439269.0</td>\n",
       "      <td>7.942254e+07</td>\n",
       "    </tr>\n",
       "    <tr>\n",
       "      <th>5</th>\n",
       "      <td>min_number_transactions</td>\n",
       "      <td>129.0</td>\n",
       "      <td>384487.0</td>\n",
       "      <td>6.776514e+07</td>\n",
       "    </tr>\n",
       "    <tr>\n",
       "      <th>6</th>\n",
       "      <td>diverse_spending</td>\n",
       "      <td>129.0</td>\n",
       "      <td>384487.0</td>\n",
       "      <td>6.776514e+07</td>\n",
       "    </tr>\n",
       "    <tr>\n",
       "      <th>7</th>\n",
       "      <td>end</td>\n",
       "      <td>129.0</td>\n",
       "      <td>384487.0</td>\n",
       "      <td>6.776514e+07</td>\n",
       "    </tr>\n",
       "  </tbody>\n",
       "</table>\n",
       "</div>"
      ],
      "text/plain": [
       "                      step  users       txs         value\n",
       "0                    start  283.0  662580.0  1.222862e+08\n",
       "1               drop_noise  283.0  662580.0  1.222862e+08\n",
       "2     min_number_of_months  239.0  653239.0  1.207088e+08\n",
       "3          current_account  227.0  636792.0  1.185223e+08\n",
       "4                min_spend  151.0  439269.0  7.942254e+07\n",
       "5  min_number_transactions  129.0  384487.0  6.776514e+07\n",
       "6         diverse_spending  129.0  384487.0  6.776514e+07\n",
       "7                      end  129.0  384487.0  6.776514e+07"
      ]
     },
     "execution_count": 60,
     "metadata": {},
     "output_type": "execute_result"
    }
   ],
   "source": [
    "df = (df.groupby(['step', 'metric'], sort=False)\n",
    "      .counts.sum()\n",
    "      .unstack('metric')\n",
    "      .rename_axis(columns=None)\n",
    "      .reset_index())\n",
    "df"
   ]
  },
  {
   "cell_type": "code",
   "execution_count": 68,
   "metadata": {},
   "outputs": [
    {
     "ename": "NameError",
     "evalue": "name 'desc' is not defined",
     "output_type": "error",
     "traceback": [
      "\u001b[0;31m---------------------------------------------------------------------------\u001b[0m",
      "\u001b[0;31mNameError\u001b[0m                                 Traceback (most recent call last)",
      "\u001b[0;32m<ipython-input-68-11ca7dd323f3>\u001b[0m in \u001b[0;36m<module>\u001b[0;34m\u001b[0m\n\u001b[1;32m      1\u001b[0m \u001b[0;31m# Formatting\u001b[0m\u001b[0;34m\u001b[0m\u001b[0;34m\u001b[0m\u001b[0;34m\u001b[0m\u001b[0m\n\u001b[1;32m      2\u001b[0m \u001b[0;34m\u001b[0m\u001b[0m\n\u001b[0;32m----> 3\u001b[0;31m \u001b[0mdf\u001b[0m\u001b[0;34m[\u001b[0m\u001b[0;34m'step'\u001b[0m\u001b[0;34m]\u001b[0m \u001b[0;34m=\u001b[0m \u001b[0mdf\u001b[0m\u001b[0;34m[\u001b[0m\u001b[0;34m'step'\u001b[0m\u001b[0;34m]\u001b[0m\u001b[0;34m.\u001b[0m\u001b[0mmap\u001b[0m\u001b[0;34m(\u001b[0m\u001b[0mdesc\u001b[0m\u001b[0;34m)\u001b[0m\u001b[0;34m\u001b[0m\u001b[0;34m\u001b[0m\u001b[0m\n\u001b[0m\u001b[1;32m      4\u001b[0m \u001b[0mints\u001b[0m \u001b[0;34m=\u001b[0m \u001b[0;34m[\u001b[0m\u001b[0;34m'users'\u001b[0m\u001b[0;34m,\u001b[0m \u001b[0;34m'acc'\u001b[0m\u001b[0;34m,\u001b[0m \u001b[0;34m'txs'\u001b[0m\u001b[0;34m]\u001b[0m\u001b[0;34m\u001b[0m\u001b[0;34m\u001b[0m\u001b[0m\n\u001b[1;32m      5\u001b[0m \u001b[0mdf\u001b[0m\u001b[0;34m[\u001b[0m\u001b[0mints\u001b[0m\u001b[0;34m]\u001b[0m \u001b[0;34m=\u001b[0m \u001b[0mdf\u001b[0m\u001b[0;34m[\u001b[0m\u001b[0mints\u001b[0m\u001b[0;34m]\u001b[0m\u001b[0;34m.\u001b[0m\u001b[0mapplymap\u001b[0m\u001b[0;34m(\u001b[0m\u001b[0;34m'{:,.0f}'\u001b[0m\u001b[0;34m.\u001b[0m\u001b[0mformat\u001b[0m\u001b[0;34m)\u001b[0m\u001b[0;34m\u001b[0m\u001b[0;34m\u001b[0m\u001b[0m\n",
      "\u001b[0;31mNameError\u001b[0m: name 'desc' is not defined"
     ]
    }
   ],
   "source": [
    "# Formatting\n",
    "\n",
    "df['step'] = df['step'].map(desc)\n",
    "ints = ['users', 'acc', 'txs']\n",
    "df[ints] = df[ints].applymap('{:,.0f}'.format)\n",
    "floats = ['value']\n",
    "df[floats] = df[floats].applymap('{:,.1f}'.format)"
   ]
  },
  {
   "cell_type": "code",
   "execution_count": 62,
   "metadata": {},
   "outputs": [
    {
     "data": {
      "text/html": [
       "<div>\n",
       "<style scoped>\n",
       "    .dataframe tbody tr th:only-of-type {\n",
       "        vertical-align: middle;\n",
       "    }\n",
       "\n",
       "    .dataframe tbody tr th {\n",
       "        vertical-align: top;\n",
       "    }\n",
       "\n",
       "    .dataframe thead th {\n",
       "        text-align: right;\n",
       "    }\n",
       "</style>\n",
       "<table border=\"1\" class=\"dataframe\">\n",
       "  <thead>\n",
       "    <tr style=\"text-align: right;\">\n",
       "      <th></th>\n",
       "      <th>users</th>\n",
       "      <th>txs</th>\n",
       "      <th>value</th>\n",
       "    </tr>\n",
       "  </thead>\n",
       "  <tbody>\n",
       "    <tr>\n",
       "      <th>0</th>\n",
       "      <td>283</td>\n",
       "      <td>662,580</td>\n",
       "      <td>122,286,176</td>\n",
       "    </tr>\n",
       "    <tr>\n",
       "      <th>1</th>\n",
       "      <td>283</td>\n",
       "      <td>662,580</td>\n",
       "      <td>122,286,173</td>\n",
       "    </tr>\n",
       "    <tr>\n",
       "      <th>2</th>\n",
       "      <td>239</td>\n",
       "      <td>653,239</td>\n",
       "      <td>120,708,756</td>\n",
       "    </tr>\n",
       "    <tr>\n",
       "      <th>3</th>\n",
       "      <td>227</td>\n",
       "      <td>636,792</td>\n",
       "      <td>118,522,330</td>\n",
       "    </tr>\n",
       "    <tr>\n",
       "      <th>4</th>\n",
       "      <td>151</td>\n",
       "      <td>439,269</td>\n",
       "      <td>79,422,540</td>\n",
       "    </tr>\n",
       "    <tr>\n",
       "      <th>5</th>\n",
       "      <td>129</td>\n",
       "      <td>384,487</td>\n",
       "      <td>67,765,143</td>\n",
       "    </tr>\n",
       "    <tr>\n",
       "      <th>6</th>\n",
       "      <td>129</td>\n",
       "      <td>384,487</td>\n",
       "      <td>67,765,143</td>\n",
       "    </tr>\n",
       "    <tr>\n",
       "      <th>7</th>\n",
       "      <td>129</td>\n",
       "      <td>384,487</td>\n",
       "      <td>67,765,143</td>\n",
       "    </tr>\n",
       "  </tbody>\n",
       "</table>\n",
       "</div>"
      ],
      "text/plain": [
       "  users      txs        value\n",
       "0   283  662,580  122,286,176\n",
       "1   283  662,580  122,286,173\n",
       "2   239  653,239  120,708,756\n",
       "3   227  636,792  118,522,330\n",
       "4   151  439,269   79,422,540\n",
       "5   129  384,487   67,765,143\n",
       "6   129  384,487   67,765,143\n",
       "7   129  384,487   67,765,143"
      ]
     },
     "execution_count": 62,
     "metadata": {},
     "output_type": "execute_result"
    }
   ],
   "source": [
    "k = df.select_dtypes('number').applymap('{:,.0f}'.format)\n",
    "k"
   ]
  },
  {
   "cell_type": "code",
   "execution_count": 67,
   "metadata": {},
   "outputs": [
    {
     "data": {
      "text/html": [
       "<div>\n",
       "<style scoped>\n",
       "    .dataframe tbody tr th:only-of-type {\n",
       "        vertical-align: middle;\n",
       "    }\n",
       "\n",
       "    .dataframe tbody tr th {\n",
       "        vertical-align: top;\n",
       "    }\n",
       "\n",
       "    .dataframe thead th {\n",
       "        text-align: right;\n",
       "    }\n",
       "</style>\n",
       "<table border=\"1\" class=\"dataframe\">\n",
       "  <thead>\n",
       "    <tr style=\"text-align: right;\">\n",
       "      <th></th>\n",
       "      <th>value</th>\n",
       "    </tr>\n",
       "  </thead>\n",
       "  <tbody>\n",
       "    <tr>\n",
       "      <th>0</th>\n",
       "      <td>1.222862e+09</td>\n",
       "    </tr>\n",
       "    <tr>\n",
       "      <th>1</th>\n",
       "      <td>1.222862e+09</td>\n",
       "    </tr>\n",
       "    <tr>\n",
       "      <th>2</th>\n",
       "      <td>1.207088e+09</td>\n",
       "    </tr>\n",
       "    <tr>\n",
       "      <th>3</th>\n",
       "      <td>1.185223e+09</td>\n",
       "    </tr>\n",
       "    <tr>\n",
       "      <th>4</th>\n",
       "      <td>7.942254e+08</td>\n",
       "    </tr>\n",
       "    <tr>\n",
       "      <th>5</th>\n",
       "      <td>6.776514e+08</td>\n",
       "    </tr>\n",
       "    <tr>\n",
       "      <th>6</th>\n",
       "      <td>6.776514e+08</td>\n",
       "    </tr>\n",
       "    <tr>\n",
       "      <th>7</th>\n",
       "      <td>6.776514e+08</td>\n",
       "    </tr>\n",
       "  </tbody>\n",
       "</table>\n",
       "</div>"
      ],
      "text/plain": [
       "          value\n",
       "0  1.222862e+09\n",
       "1  1.222862e+09\n",
       "2  1.207088e+09\n",
       "3  1.185223e+09\n",
       "4  7.942254e+08\n",
       "5  6.776514e+08\n",
       "6  6.776514e+08\n",
       "7  6.776514e+08"
      ]
     },
     "execution_count": 67,
     "metadata": {},
     "output_type": "execute_result"
    }
   ],
   "source": [
    "df[['value']].applymap(lambda x: x*10)"
   ]
  },
  {
   "cell_type": "code",
   "execution_count": null,
   "metadata": {},
   "outputs": [],
   "source": [
    "df.to_latex"
   ]
  },
  {
   "cell_type": "code",
   "execution_count": 57,
   "metadata": {},
   "outputs": [
    {
     "data": {
      "text/html": [
       "<div>\n",
       "<style scoped>\n",
       "    .dataframe tbody tr th:only-of-type {\n",
       "        vertical-align: middle;\n",
       "    }\n",
       "\n",
       "    .dataframe tbody tr th {\n",
       "        vertical-align: top;\n",
       "    }\n",
       "\n",
       "    .dataframe thead th {\n",
       "        text-align: right;\n",
       "    }\n",
       "</style>\n",
       "<table border=\"1\" class=\"dataframe\">\n",
       "  <thead>\n",
       "    <tr style=\"text-align: right;\">\n",
       "      <th></th>\n",
       "      <th>step</th>\n",
       "      <th>users</th>\n",
       "      <th>txs</th>\n",
       "      <th>value</th>\n",
       "    </tr>\n",
       "  </thead>\n",
       "  <tbody>\n",
       "    <tr>\n",
       "      <th>0</th>\n",
       "      <td>start</td>\n",
       "      <td>283</td>\n",
       "      <td>662,580</td>\n",
       "      <td>122,286,176</td>\n",
       "    </tr>\n",
       "    <tr>\n",
       "      <th>1</th>\n",
       "      <td>drop_noise</td>\n",
       "      <td>283</td>\n",
       "      <td>662,580</td>\n",
       "      <td>122,286,173</td>\n",
       "    </tr>\n",
       "    <tr>\n",
       "      <th>2</th>\n",
       "      <td>min_number_of_months</td>\n",
       "      <td>239</td>\n",
       "      <td>653,239</td>\n",
       "      <td>120,708,755</td>\n",
       "    </tr>\n",
       "    <tr>\n",
       "      <th>3</th>\n",
       "      <td>current_account</td>\n",
       "      <td>227</td>\n",
       "      <td>636,792</td>\n",
       "      <td>118,522,329</td>\n",
       "    </tr>\n",
       "    <tr>\n",
       "      <th>4</th>\n",
       "      <td>min_spend</td>\n",
       "      <td>151</td>\n",
       "      <td>439,269</td>\n",
       "      <td>79,422,540</td>\n",
       "    </tr>\n",
       "    <tr>\n",
       "      <th>5</th>\n",
       "      <td>min_number_transactions</td>\n",
       "      <td>129</td>\n",
       "      <td>384,487</td>\n",
       "      <td>67,765,143</td>\n",
       "    </tr>\n",
       "    <tr>\n",
       "      <th>6</th>\n",
       "      <td>diverse_spending</td>\n",
       "      <td>129</td>\n",
       "      <td>384,487</td>\n",
       "      <td>67,765,143</td>\n",
       "    </tr>\n",
       "    <tr>\n",
       "      <th>7</th>\n",
       "      <td>end</td>\n",
       "      <td>129</td>\n",
       "      <td>384,487</td>\n",
       "      <td>67,765,143</td>\n",
       "    </tr>\n",
       "  </tbody>\n",
       "</table>\n",
       "</div>"
      ],
      "text/plain": [
       "                      step users      txs        value\n",
       "0                    start   283  662,580  122,286,176\n",
       "1               drop_noise   283  662,580  122,286,173\n",
       "2     min_number_of_months   239  653,239  120,708,755\n",
       "3          current_account   227  636,792  118,522,329\n",
       "4                min_spend   151  439,269   79,422,540\n",
       "5  min_number_transactions   129  384,487   67,765,143\n",
       "6         diverse_spending   129  384,487   67,765,143\n",
       "7                      end   129  384,487   67,765,143"
      ]
     },
     "execution_count": 57,
     "metadata": {},
     "output_type": "execute_result"
    }
   ],
   "source": [
    "df[df.select_dtypes('number').columns] = k\n",
    "df"
   ]
  },
  {
   "cell_type": "code",
   "execution_count": null,
   "metadata": {},
   "outputs": [],
   "source": []
  },
  {
   "cell_type": "code",
   "execution_count": 37,
   "metadata": {},
   "outputs": [
    {
     "data": {
      "text/html": [
       "<style  type=\"text/css\" >\n",
       "</style><table id=\"T_fd89fbf0_fd65_11ea_afd2_acde48001122\" ><thead>    <tr>        <th class=\"blank level0\" ></th>        <th class=\"col_heading level0 col0\" >step</th>        <th class=\"col_heading level0 col1\" >users</th>        <th class=\"col_heading level0 col2\" >txs</th>        <th class=\"col_heading level0 col3\" >value</th>    </tr></thead><tbody>\n",
       "                <tr>\n",
       "                        <th id=\"T_fd89fbf0_fd65_11ea_afd2_acde48001122level0_row0\" class=\"row_heading level0 row0\" >0</th>\n",
       "                        <td id=\"T_fd89fbf0_fd65_11ea_afd2_acde48001122row0_col0\" class=\"data row0 col0\" >start</td>\n",
       "                        <td id=\"T_fd89fbf0_fd65_11ea_afd2_acde48001122row0_col1\" class=\"data row0 col1\" >283</td>\n",
       "                        <td id=\"T_fd89fbf0_fd65_11ea_afd2_acde48001122row0_col2\" class=\"data row0 col2\" >662580</td>\n",
       "                        <td id=\"T_fd89fbf0_fd65_11ea_afd2_acde48001122row0_col3\" class=\"data row0 col3\" >122,286,176</td>\n",
       "            </tr>\n",
       "            <tr>\n",
       "                        <th id=\"T_fd89fbf0_fd65_11ea_afd2_acde48001122level0_row1\" class=\"row_heading level0 row1\" >1</th>\n",
       "                        <td id=\"T_fd89fbf0_fd65_11ea_afd2_acde48001122row1_col0\" class=\"data row1 col0\" >drop_noise</td>\n",
       "                        <td id=\"T_fd89fbf0_fd65_11ea_afd2_acde48001122row1_col1\" class=\"data row1 col1\" >283</td>\n",
       "                        <td id=\"T_fd89fbf0_fd65_11ea_afd2_acde48001122row1_col2\" class=\"data row1 col2\" >662580</td>\n",
       "                        <td id=\"T_fd89fbf0_fd65_11ea_afd2_acde48001122row1_col3\" class=\"data row1 col3\" >122,286,173</td>\n",
       "            </tr>\n",
       "            <tr>\n",
       "                        <th id=\"T_fd89fbf0_fd65_11ea_afd2_acde48001122level0_row2\" class=\"row_heading level0 row2\" >2</th>\n",
       "                        <td id=\"T_fd89fbf0_fd65_11ea_afd2_acde48001122row2_col0\" class=\"data row2 col0\" >min_number_of_months</td>\n",
       "                        <td id=\"T_fd89fbf0_fd65_11ea_afd2_acde48001122row2_col1\" class=\"data row2 col1\" >239</td>\n",
       "                        <td id=\"T_fd89fbf0_fd65_11ea_afd2_acde48001122row2_col2\" class=\"data row2 col2\" >653239</td>\n",
       "                        <td id=\"T_fd89fbf0_fd65_11ea_afd2_acde48001122row2_col3\" class=\"data row2 col3\" >120,708,756</td>\n",
       "            </tr>\n",
       "            <tr>\n",
       "                        <th id=\"T_fd89fbf0_fd65_11ea_afd2_acde48001122level0_row3\" class=\"row_heading level0 row3\" >3</th>\n",
       "                        <td id=\"T_fd89fbf0_fd65_11ea_afd2_acde48001122row3_col0\" class=\"data row3 col0\" >current_account</td>\n",
       "                        <td id=\"T_fd89fbf0_fd65_11ea_afd2_acde48001122row3_col1\" class=\"data row3 col1\" >227</td>\n",
       "                        <td id=\"T_fd89fbf0_fd65_11ea_afd2_acde48001122row3_col2\" class=\"data row3 col2\" >636792</td>\n",
       "                        <td id=\"T_fd89fbf0_fd65_11ea_afd2_acde48001122row3_col3\" class=\"data row3 col3\" >118,522,330</td>\n",
       "            </tr>\n",
       "            <tr>\n",
       "                        <th id=\"T_fd89fbf0_fd65_11ea_afd2_acde48001122level0_row4\" class=\"row_heading level0 row4\" >4</th>\n",
       "                        <td id=\"T_fd89fbf0_fd65_11ea_afd2_acde48001122row4_col0\" class=\"data row4 col0\" >min_spend</td>\n",
       "                        <td id=\"T_fd89fbf0_fd65_11ea_afd2_acde48001122row4_col1\" class=\"data row4 col1\" >151</td>\n",
       "                        <td id=\"T_fd89fbf0_fd65_11ea_afd2_acde48001122row4_col2\" class=\"data row4 col2\" >439269</td>\n",
       "                        <td id=\"T_fd89fbf0_fd65_11ea_afd2_acde48001122row4_col3\" class=\"data row4 col3\" >79,422,540</td>\n",
       "            </tr>\n",
       "            <tr>\n",
       "                        <th id=\"T_fd89fbf0_fd65_11ea_afd2_acde48001122level0_row5\" class=\"row_heading level0 row5\" >5</th>\n",
       "                        <td id=\"T_fd89fbf0_fd65_11ea_afd2_acde48001122row5_col0\" class=\"data row5 col0\" >min_number_transactions</td>\n",
       "                        <td id=\"T_fd89fbf0_fd65_11ea_afd2_acde48001122row5_col1\" class=\"data row5 col1\" >129</td>\n",
       "                        <td id=\"T_fd89fbf0_fd65_11ea_afd2_acde48001122row5_col2\" class=\"data row5 col2\" >384487</td>\n",
       "                        <td id=\"T_fd89fbf0_fd65_11ea_afd2_acde48001122row5_col3\" class=\"data row5 col3\" >67,765,143</td>\n",
       "            </tr>\n",
       "            <tr>\n",
       "                        <th id=\"T_fd89fbf0_fd65_11ea_afd2_acde48001122level0_row6\" class=\"row_heading level0 row6\" >6</th>\n",
       "                        <td id=\"T_fd89fbf0_fd65_11ea_afd2_acde48001122row6_col0\" class=\"data row6 col0\" >diverse_spending</td>\n",
       "                        <td id=\"T_fd89fbf0_fd65_11ea_afd2_acde48001122row6_col1\" class=\"data row6 col1\" >129</td>\n",
       "                        <td id=\"T_fd89fbf0_fd65_11ea_afd2_acde48001122row6_col2\" class=\"data row6 col2\" >384487</td>\n",
       "                        <td id=\"T_fd89fbf0_fd65_11ea_afd2_acde48001122row6_col3\" class=\"data row6 col3\" >67,765,143</td>\n",
       "            </tr>\n",
       "            <tr>\n",
       "                        <th id=\"T_fd89fbf0_fd65_11ea_afd2_acde48001122level0_row7\" class=\"row_heading level0 row7\" >7</th>\n",
       "                        <td id=\"T_fd89fbf0_fd65_11ea_afd2_acde48001122row7_col0\" class=\"data row7 col0\" >end</td>\n",
       "                        <td id=\"T_fd89fbf0_fd65_11ea_afd2_acde48001122row7_col1\" class=\"data row7 col1\" >129</td>\n",
       "                        <td id=\"T_fd89fbf0_fd65_11ea_afd2_acde48001122row7_col2\" class=\"data row7 col2\" >384487</td>\n",
       "                        <td id=\"T_fd89fbf0_fd65_11ea_afd2_acde48001122row7_col3\" class=\"data row7 col3\" >67,765,143</td>\n",
       "            </tr>\n",
       "    </tbody></table>"
      ],
      "text/plain": [
       "<pandas.io.formats.style.Styler at 0x11a37ad10>"
      ]
     },
     "execution_count": 37,
     "metadata": {},
     "output_type": "execute_result"
    }
   ],
   "source": [
    "fmt = {\n",
    "    'users': '{:.0f}',\n",
    "    'txs': '{:.0f}',\n",
    "    'value': '{:,.0f}',\n",
    "}\n",
    "df = df.style.format(fmt)\n",
    "df"
   ]
  },
  {
   "cell_type": "code",
   "execution_count": 38,
   "metadata": {},
   "outputs": [
    {
     "ename": "AttributeError",
     "evalue": "'Styler' object has no attribute 'select_dtypes'",
     "output_type": "error",
     "traceback": [
      "\u001b[0;31m---------------------------------------------------------------------------\u001b[0m",
      "\u001b[0;31mAttributeError\u001b[0m                            Traceback (most recent call last)",
      "\u001b[0;32m<ipython-input-38-193c9cdb9caa>\u001b[0m in \u001b[0;36m<module>\u001b[0;34m\u001b[0m\n\u001b[0;32m----> 1\u001b[0;31m \u001b[0mdf\u001b[0m \u001b[0;34m=\u001b[0m \u001b[0mdf\u001b[0m\u001b[0;34m.\u001b[0m\u001b[0mselect_dtypes\u001b[0m\u001b[0;34m(\u001b[0m\u001b[0;34m'number'\u001b[0m\u001b[0;34m)\u001b[0m\u001b[0;34m.\u001b[0m\u001b[0mastype\u001b[0m\u001b[0;34m(\u001b[0m\u001b[0;34m'str'\u001b[0m\u001b[0;34m)\u001b[0m\u001b[0;34m\u001b[0m\u001b[0;34m\u001b[0m\u001b[0m\n\u001b[0m\u001b[1;32m      2\u001b[0m \u001b[0mdf\u001b[0m\u001b[0;34m\u001b[0m\u001b[0;34m\u001b[0m\u001b[0m\n",
      "\u001b[0;31mAttributeError\u001b[0m: 'Styler' object has no attribute 'select_dtypes'"
     ]
    }
   ],
   "source": [
    "df = df.select_dtypes('number').astype('str')\n",
    "df"
   ]
  },
  {
   "cell_type": "code",
   "execution_count": 26,
   "metadata": {},
   "outputs": [
    {
     "name": "stdout",
     "output_type": "stream",
     "text": [
      "<class 'pandas.core.frame.DataFrame'>\n",
      "RangeIndex: 8 entries, 0 to 7\n",
      "Data columns (total 3 columns):\n",
      " #   Column  Non-Null Count  Dtype \n",
      "---  ------  --------------  ----- \n",
      " 0   users   8 non-null      object\n",
      " 1   txs     8 non-null      object\n",
      " 2   value   8 non-null      object\n",
      "dtypes: object(3)\n",
      "memory usage: 320.0+ bytes\n"
     ]
    }
   ],
   "source": [
    "df.info()"
   ]
  },
  {
   "cell_type": "code",
   "execution_count": 28,
   "metadata": {},
   "outputs": [
    {
     "ename": "ValueError",
     "evalue": "Cannot specify ',' with 's'.",
     "output_type": "error",
     "traceback": [
      "\u001b[0;31m---------------------------------------------------------------------------\u001b[0m",
      "\u001b[0;31mValueError\u001b[0m                                Traceback (most recent call last)",
      "\u001b[0;32m~/miniconda3/envs/habits/lib/python3.7/site-packages/IPython/core/formatters.py\u001b[0m in \u001b[0;36m__call__\u001b[0;34m(self, obj)\u001b[0m\n\u001b[1;32m    343\u001b[0m             \u001b[0mmethod\u001b[0m \u001b[0;34m=\u001b[0m \u001b[0mget_real_method\u001b[0m\u001b[0;34m(\u001b[0m\u001b[0mobj\u001b[0m\u001b[0;34m,\u001b[0m \u001b[0mself\u001b[0m\u001b[0;34m.\u001b[0m\u001b[0mprint_method\u001b[0m\u001b[0;34m)\u001b[0m\u001b[0;34m\u001b[0m\u001b[0;34m\u001b[0m\u001b[0m\n\u001b[1;32m    344\u001b[0m             \u001b[0;32mif\u001b[0m \u001b[0mmethod\u001b[0m \u001b[0;32mis\u001b[0m \u001b[0;32mnot\u001b[0m \u001b[0;32mNone\u001b[0m\u001b[0;34m:\u001b[0m\u001b[0;34m\u001b[0m\u001b[0;34m\u001b[0m\u001b[0m\n\u001b[0;32m--> 345\u001b[0;31m                 \u001b[0;32mreturn\u001b[0m \u001b[0mmethod\u001b[0m\u001b[0;34m(\u001b[0m\u001b[0;34m)\u001b[0m\u001b[0;34m\u001b[0m\u001b[0;34m\u001b[0m\u001b[0m\n\u001b[0m\u001b[1;32m    346\u001b[0m             \u001b[0;32mreturn\u001b[0m \u001b[0;32mNone\u001b[0m\u001b[0;34m\u001b[0m\u001b[0;34m\u001b[0m\u001b[0m\n\u001b[1;32m    347\u001b[0m         \u001b[0;32melse\u001b[0m\u001b[0;34m:\u001b[0m\u001b[0;34m\u001b[0m\u001b[0;34m\u001b[0m\u001b[0m\n",
      "\u001b[0;32m~/miniconda3/envs/habits/lib/python3.7/site-packages/pandas/io/formats/style.py\u001b[0m in \u001b[0;36m_repr_html_\u001b[0;34m(self)\u001b[0m\n\u001b[1;32m    180\u001b[0m         \u001b[0mHooks\u001b[0m \u001b[0minto\u001b[0m \u001b[0mJupyter\u001b[0m \u001b[0mnotebook\u001b[0m \u001b[0mrich\u001b[0m \u001b[0mdisplay\u001b[0m \u001b[0msystem\u001b[0m\u001b[0;34m.\u001b[0m\u001b[0;34m\u001b[0m\u001b[0;34m\u001b[0m\u001b[0m\n\u001b[1;32m    181\u001b[0m         \"\"\"\n\u001b[0;32m--> 182\u001b[0;31m         \u001b[0;32mreturn\u001b[0m \u001b[0mself\u001b[0m\u001b[0;34m.\u001b[0m\u001b[0mrender\u001b[0m\u001b[0;34m(\u001b[0m\u001b[0;34m)\u001b[0m\u001b[0;34m\u001b[0m\u001b[0;34m\u001b[0m\u001b[0m\n\u001b[0m\u001b[1;32m    183\u001b[0m \u001b[0;34m\u001b[0m\u001b[0m\n\u001b[1;32m    184\u001b[0m     @Appender(\n",
      "\u001b[0;32m~/miniconda3/envs/habits/lib/python3.7/site-packages/pandas/io/formats/style.py\u001b[0m in \u001b[0;36mrender\u001b[0;34m(self, **kwargs)\u001b[0m\n\u001b[1;32m    537\u001b[0m         \u001b[0mself\u001b[0m\u001b[0;34m.\u001b[0m\u001b[0m_compute\u001b[0m\u001b[0;34m(\u001b[0m\u001b[0;34m)\u001b[0m\u001b[0;34m\u001b[0m\u001b[0;34m\u001b[0m\u001b[0m\n\u001b[1;32m    538\u001b[0m         \u001b[0;31m# TODO: namespace all the pandas keys\u001b[0m\u001b[0;34m\u001b[0m\u001b[0;34m\u001b[0m\u001b[0;34m\u001b[0m\u001b[0m\n\u001b[0;32m--> 539\u001b[0;31m         \u001b[0md\u001b[0m \u001b[0;34m=\u001b[0m \u001b[0mself\u001b[0m\u001b[0;34m.\u001b[0m\u001b[0m_translate\u001b[0m\u001b[0;34m(\u001b[0m\u001b[0;34m)\u001b[0m\u001b[0;34m\u001b[0m\u001b[0;34m\u001b[0m\u001b[0m\n\u001b[0m\u001b[1;32m    540\u001b[0m         \u001b[0;31m# filter out empty styles, every cell will have a class\u001b[0m\u001b[0;34m\u001b[0m\u001b[0;34m\u001b[0m\u001b[0;34m\u001b[0m\u001b[0m\n\u001b[1;32m    541\u001b[0m         \u001b[0;31m# but the list of props may just be [['', '']].\u001b[0m\u001b[0;34m\u001b[0m\u001b[0;34m\u001b[0m\u001b[0;34m\u001b[0m\u001b[0m\n",
      "\u001b[0;32m~/miniconda3/envs/habits/lib/python3.7/site-packages/pandas/io/formats/style.py\u001b[0m in \u001b[0;36m_translate\u001b[0;34m(self)\u001b[0m\n\u001b[1;32m    387\u001b[0m                     \u001b[0;34m\"value\"\u001b[0m\u001b[0;34m:\u001b[0m \u001b[0mvalue\u001b[0m\u001b[0;34m,\u001b[0m\u001b[0;34m\u001b[0m\u001b[0;34m\u001b[0m\u001b[0m\n\u001b[1;32m    388\u001b[0m                     \u001b[0;34m\"class\"\u001b[0m\u001b[0;34m:\u001b[0m \u001b[0;34m\" \"\u001b[0m\u001b[0;34m.\u001b[0m\u001b[0mjoin\u001b[0m\u001b[0;34m(\u001b[0m\u001b[0mcs\u001b[0m\u001b[0;34m)\u001b[0m\u001b[0;34m,\u001b[0m\u001b[0;34m\u001b[0m\u001b[0;34m\u001b[0m\u001b[0m\n\u001b[0;32m--> 389\u001b[0;31m                     \u001b[0;34m\"display_value\"\u001b[0m\u001b[0;34m:\u001b[0m \u001b[0mformatter\u001b[0m\u001b[0;34m(\u001b[0m\u001b[0mvalue\u001b[0m\u001b[0;34m)\u001b[0m\u001b[0;34m,\u001b[0m\u001b[0;34m\u001b[0m\u001b[0;34m\u001b[0m\u001b[0m\n\u001b[0m\u001b[1;32m    390\u001b[0m                     \u001b[0;34m\"is_visible\"\u001b[0m\u001b[0;34m:\u001b[0m \u001b[0;34m(\u001b[0m\u001b[0mc\u001b[0m \u001b[0;32mnot\u001b[0m \u001b[0;32min\u001b[0m \u001b[0mhidden_columns\u001b[0m\u001b[0;34m)\u001b[0m\u001b[0;34m,\u001b[0m\u001b[0;34m\u001b[0m\u001b[0;34m\u001b[0m\u001b[0m\n\u001b[1;32m    391\u001b[0m                 }\n",
      "\u001b[0;32m~/miniconda3/envs/habits/lib/python3.7/site-packages/pandas/io/formats/style.py\u001b[0m in \u001b[0;36m<lambda>\u001b[0;34m(x)\u001b[0m\n\u001b[1;32m   1513\u001b[0m \u001b[0;32mdef\u001b[0m \u001b[0m_maybe_wrap_formatter\u001b[0m\u001b[0;34m(\u001b[0m\u001b[0mformatter\u001b[0m\u001b[0;34m,\u001b[0m \u001b[0mna_rep\u001b[0m\u001b[0;34m:\u001b[0m \u001b[0mOptional\u001b[0m\u001b[0;34m[\u001b[0m\u001b[0mstr\u001b[0m\u001b[0;34m]\u001b[0m\u001b[0;34m)\u001b[0m\u001b[0;34m:\u001b[0m\u001b[0;34m\u001b[0m\u001b[0;34m\u001b[0m\u001b[0m\n\u001b[1;32m   1514\u001b[0m     \u001b[0;32mif\u001b[0m \u001b[0misinstance\u001b[0m\u001b[0;34m(\u001b[0m\u001b[0mformatter\u001b[0m\u001b[0;34m,\u001b[0m \u001b[0mstr\u001b[0m\u001b[0;34m)\u001b[0m\u001b[0;34m:\u001b[0m\u001b[0;34m\u001b[0m\u001b[0;34m\u001b[0m\u001b[0m\n\u001b[0;32m-> 1515\u001b[0;31m         \u001b[0mformatter_func\u001b[0m \u001b[0;34m=\u001b[0m \u001b[0;32mlambda\u001b[0m \u001b[0mx\u001b[0m\u001b[0;34m:\u001b[0m \u001b[0mformatter\u001b[0m\u001b[0;34m.\u001b[0m\u001b[0mformat\u001b[0m\u001b[0;34m(\u001b[0m\u001b[0mx\u001b[0m\u001b[0;34m)\u001b[0m\u001b[0;34m\u001b[0m\u001b[0;34m\u001b[0m\u001b[0m\n\u001b[0m\u001b[1;32m   1516\u001b[0m     \u001b[0;32melif\u001b[0m \u001b[0mcallable\u001b[0m\u001b[0;34m(\u001b[0m\u001b[0mformatter\u001b[0m\u001b[0;34m)\u001b[0m\u001b[0;34m:\u001b[0m\u001b[0;34m\u001b[0m\u001b[0;34m\u001b[0m\u001b[0m\n\u001b[1;32m   1517\u001b[0m         \u001b[0mformatter_func\u001b[0m \u001b[0;34m=\u001b[0m \u001b[0mformatter\u001b[0m\u001b[0;34m\u001b[0m\u001b[0;34m\u001b[0m\u001b[0m\n",
      "\u001b[0;31mValueError\u001b[0m: Cannot specify ',' with 's'."
     ]
    },
    {
     "data": {
      "text/plain": [
       "<pandas.io.formats.style.Styler at 0x119db1210>"
      ]
     },
     "execution_count": 28,
     "metadata": {},
     "output_type": "execute_result"
    }
   ],
   "source": []
  },
  {
   "cell_type": "code",
   "execution_count": null,
   "metadata": {},
   "outputs": [],
   "source": [
    "df.to_csv"
   ]
  },
  {
   "cell_type": "code",
   "execution_count": 7,
   "metadata": {},
   "outputs": [
    {
     "data": {
      "text/html": [
       "<style  type=\"text/css\" >\n",
       "</style><table id=\"T_36e8658c_fd64_11ea_afd2_acde48001122\" ><thead>    <tr>        <th class=\"blank level0\" ></th>        <th class=\"col_heading level0 col0\" >step</th>        <th class=\"col_heading level0 col1\" >users</th>        <th class=\"col_heading level0 col2\" >txs</th>        <th class=\"col_heading level0 col3\" >value</th>    </tr></thead><tbody>\n",
       "                <tr>\n",
       "                        <th id=\"T_36e8658c_fd64_11ea_afd2_acde48001122level0_row0\" class=\"row_heading level0 row0\" >0</th>\n",
       "                        <td id=\"T_36e8658c_fd64_11ea_afd2_acde48001122row0_col0\" class=\"data row0 col0\" >start</td>\n",
       "                        <td id=\"T_36e8658c_fd64_11ea_afd2_acde48001122row0_col1\" class=\"data row0 col1\" >283</td>\n",
       "                        <td id=\"T_36e8658c_fd64_11ea_afd2_acde48001122row0_col2\" class=\"data row0 col2\" >662580</td>\n",
       "                        <td id=\"T_36e8658c_fd64_11ea_afd2_acde48001122row0_col3\" class=\"data row0 col3\" >122,286,176</td>\n",
       "            </tr>\n",
       "            <tr>\n",
       "                        <th id=\"T_36e8658c_fd64_11ea_afd2_acde48001122level0_row1\" class=\"row_heading level0 row1\" >1</th>\n",
       "                        <td id=\"T_36e8658c_fd64_11ea_afd2_acde48001122row1_col0\" class=\"data row1 col0\" >drop_noise</td>\n",
       "                        <td id=\"T_36e8658c_fd64_11ea_afd2_acde48001122row1_col1\" class=\"data row1 col1\" >283</td>\n",
       "                        <td id=\"T_36e8658c_fd64_11ea_afd2_acde48001122row1_col2\" class=\"data row1 col2\" >662580</td>\n",
       "                        <td id=\"T_36e8658c_fd64_11ea_afd2_acde48001122row1_col3\" class=\"data row1 col3\" >122,286,173</td>\n",
       "            </tr>\n",
       "            <tr>\n",
       "                        <th id=\"T_36e8658c_fd64_11ea_afd2_acde48001122level0_row2\" class=\"row_heading level0 row2\" >2</th>\n",
       "                        <td id=\"T_36e8658c_fd64_11ea_afd2_acde48001122row2_col0\" class=\"data row2 col0\" >min_number_of_months</td>\n",
       "                        <td id=\"T_36e8658c_fd64_11ea_afd2_acde48001122row2_col1\" class=\"data row2 col1\" >239</td>\n",
       "                        <td id=\"T_36e8658c_fd64_11ea_afd2_acde48001122row2_col2\" class=\"data row2 col2\" >653239</td>\n",
       "                        <td id=\"T_36e8658c_fd64_11ea_afd2_acde48001122row2_col3\" class=\"data row2 col3\" >120,708,756</td>\n",
       "            </tr>\n",
       "            <tr>\n",
       "                        <th id=\"T_36e8658c_fd64_11ea_afd2_acde48001122level0_row3\" class=\"row_heading level0 row3\" >3</th>\n",
       "                        <td id=\"T_36e8658c_fd64_11ea_afd2_acde48001122row3_col0\" class=\"data row3 col0\" >current_account</td>\n",
       "                        <td id=\"T_36e8658c_fd64_11ea_afd2_acde48001122row3_col1\" class=\"data row3 col1\" >227</td>\n",
       "                        <td id=\"T_36e8658c_fd64_11ea_afd2_acde48001122row3_col2\" class=\"data row3 col2\" >636792</td>\n",
       "                        <td id=\"T_36e8658c_fd64_11ea_afd2_acde48001122row3_col3\" class=\"data row3 col3\" >118,522,330</td>\n",
       "            </tr>\n",
       "            <tr>\n",
       "                        <th id=\"T_36e8658c_fd64_11ea_afd2_acde48001122level0_row4\" class=\"row_heading level0 row4\" >4</th>\n",
       "                        <td id=\"T_36e8658c_fd64_11ea_afd2_acde48001122row4_col0\" class=\"data row4 col0\" >min_spend</td>\n",
       "                        <td id=\"T_36e8658c_fd64_11ea_afd2_acde48001122row4_col1\" class=\"data row4 col1\" >151</td>\n",
       "                        <td id=\"T_36e8658c_fd64_11ea_afd2_acde48001122row4_col2\" class=\"data row4 col2\" >439269</td>\n",
       "                        <td id=\"T_36e8658c_fd64_11ea_afd2_acde48001122row4_col3\" class=\"data row4 col3\" >79,422,540</td>\n",
       "            </tr>\n",
       "            <tr>\n",
       "                        <th id=\"T_36e8658c_fd64_11ea_afd2_acde48001122level0_row5\" class=\"row_heading level0 row5\" >5</th>\n",
       "                        <td id=\"T_36e8658c_fd64_11ea_afd2_acde48001122row5_col0\" class=\"data row5 col0\" >min_number_transactions</td>\n",
       "                        <td id=\"T_36e8658c_fd64_11ea_afd2_acde48001122row5_col1\" class=\"data row5 col1\" >129</td>\n",
       "                        <td id=\"T_36e8658c_fd64_11ea_afd2_acde48001122row5_col2\" class=\"data row5 col2\" >384487</td>\n",
       "                        <td id=\"T_36e8658c_fd64_11ea_afd2_acde48001122row5_col3\" class=\"data row5 col3\" >67,765,143</td>\n",
       "            </tr>\n",
       "            <tr>\n",
       "                        <th id=\"T_36e8658c_fd64_11ea_afd2_acde48001122level0_row6\" class=\"row_heading level0 row6\" >6</th>\n",
       "                        <td id=\"T_36e8658c_fd64_11ea_afd2_acde48001122row6_col0\" class=\"data row6 col0\" >diverse_spending</td>\n",
       "                        <td id=\"T_36e8658c_fd64_11ea_afd2_acde48001122row6_col1\" class=\"data row6 col1\" >129</td>\n",
       "                        <td id=\"T_36e8658c_fd64_11ea_afd2_acde48001122row6_col2\" class=\"data row6 col2\" >384487</td>\n",
       "                        <td id=\"T_36e8658c_fd64_11ea_afd2_acde48001122row6_col3\" class=\"data row6 col3\" >67,765,143</td>\n",
       "            </tr>\n",
       "            <tr>\n",
       "                        <th id=\"T_36e8658c_fd64_11ea_afd2_acde48001122level0_row7\" class=\"row_heading level0 row7\" >7</th>\n",
       "                        <td id=\"T_36e8658c_fd64_11ea_afd2_acde48001122row7_col0\" class=\"data row7 col0\" >end</td>\n",
       "                        <td id=\"T_36e8658c_fd64_11ea_afd2_acde48001122row7_col1\" class=\"data row7 col1\" >129</td>\n",
       "                        <td id=\"T_36e8658c_fd64_11ea_afd2_acde48001122row7_col2\" class=\"data row7 col2\" >384487</td>\n",
       "                        <td id=\"T_36e8658c_fd64_11ea_afd2_acde48001122row7_col3\" class=\"data row7 col3\" >67,765,143</td>\n",
       "            </tr>\n",
       "    </tbody></table>"
      ],
      "text/plain": [
       "<pandas.io.formats.style.Styler at 0x116fb6450>"
      ]
     },
     "execution_count": 7,
     "metadata": {},
     "output_type": "execute_result"
    }
   ],
   "source": []
  },
  {
   "cell_type": "code",
   "execution_count": 44,
   "metadata": {},
   "outputs": [
    {
     "data": {
      "text/html": [
       "<div>\n",
       "<style scoped>\n",
       "    .dataframe tbody tr th:only-of-type {\n",
       "        vertical-align: middle;\n",
       "    }\n",
       "\n",
       "    .dataframe tbody tr th {\n",
       "        vertical-align: top;\n",
       "    }\n",
       "\n",
       "    .dataframe thead th {\n",
       "        text-align: right;\n",
       "    }\n",
       "</style>\n",
       "<table border=\"1\" class=\"dataframe\">\n",
       "  <thead>\n",
       "    <tr style=\"text-align: right;\">\n",
       "      <th></th>\n",
       "      <th></th>\n",
       "      <th>counts</th>\n",
       "    </tr>\n",
       "    <tr>\n",
       "      <th>step</th>\n",
       "      <th>metric</th>\n",
       "      <th></th>\n",
       "    </tr>\n",
       "  </thead>\n",
       "  <tbody>\n",
       "    <tr>\n",
       "      <th rowspan=\"3\" valign=\"top\">start</th>\n",
       "      <th>users</th>\n",
       "      <td>283.0</td>\n",
       "    </tr>\n",
       "    <tr>\n",
       "      <th>txs</th>\n",
       "      <td>662580.0</td>\n",
       "    </tr>\n",
       "    <tr>\n",
       "      <th>value</th>\n",
       "      <td>122286176.0</td>\n",
       "    </tr>\n",
       "    <tr>\n",
       "      <th rowspan=\"2\" valign=\"top\">drop_noise</th>\n",
       "      <th>users</th>\n",
       "      <td>283.0</td>\n",
       "    </tr>\n",
       "    <tr>\n",
       "      <th>txs</th>\n",
       "      <td>662580.0</td>\n",
       "    </tr>\n",
       "  </tbody>\n",
       "</table>\n",
       "</div>"
      ],
      "text/plain": [
       "                        counts\n",
       "step       metric             \n",
       "start      users         283.0\n",
       "           txs        662580.0\n",
       "           value   122286176.0\n",
       "drop_noise users         283.0\n",
       "           txs        662580.0"
      ]
     },
     "execution_count": 44,
     "metadata": {},
     "output_type": "execute_result"
    }
   ],
   "source": [
    "df = df.set_index(['step', 'metric'])\n",
    "df.head()\n"
   ]
  },
  {
   "cell_type": "code",
   "execution_count": 45,
   "metadata": {},
   "outputs": [
    {
     "data": {
      "text/html": [
       "<div>\n",
       "<style scoped>\n",
       "    .dataframe tbody tr th:only-of-type {\n",
       "        vertical-align: middle;\n",
       "    }\n",
       "\n",
       "    .dataframe tbody tr th {\n",
       "        vertical-align: top;\n",
       "    }\n",
       "\n",
       "    .dataframe thead tr th {\n",
       "        text-align: left;\n",
       "    }\n",
       "\n",
       "    .dataframe thead tr:last-of-type th {\n",
       "        text-align: right;\n",
       "    }\n",
       "</style>\n",
       "<table border=\"1\" class=\"dataframe\">\n",
       "  <thead>\n",
       "    <tr>\n",
       "      <th></th>\n",
       "      <th colspan=\"3\" halign=\"left\">counts</th>\n",
       "    </tr>\n",
       "    <tr>\n",
       "      <th>metric</th>\n",
       "      <th>txs</th>\n",
       "      <th>users</th>\n",
       "      <th>value</th>\n",
       "    </tr>\n",
       "    <tr>\n",
       "      <th>step</th>\n",
       "      <th></th>\n",
       "      <th></th>\n",
       "      <th></th>\n",
       "    </tr>\n",
       "  </thead>\n",
       "  <tbody>\n",
       "    <tr>\n",
       "      <th>current_account</th>\n",
       "      <td>636792.0</td>\n",
       "      <td>227.0</td>\n",
       "      <td>1.185223e+08</td>\n",
       "    </tr>\n",
       "    <tr>\n",
       "      <th>diverse_spending</th>\n",
       "      <td>384487.0</td>\n",
       "      <td>129.0</td>\n",
       "      <td>6.776514e+07</td>\n",
       "    </tr>\n",
       "    <tr>\n",
       "      <th>drop_noise</th>\n",
       "      <td>662580.0</td>\n",
       "      <td>283.0</td>\n",
       "      <td>1.222862e+08</td>\n",
       "    </tr>\n",
       "    <tr>\n",
       "      <th>end</th>\n",
       "      <td>384487.0</td>\n",
       "      <td>129.0</td>\n",
       "      <td>6.776514e+07</td>\n",
       "    </tr>\n",
       "    <tr>\n",
       "      <th>min_number_of_months</th>\n",
       "      <td>653239.0</td>\n",
       "      <td>239.0</td>\n",
       "      <td>1.207088e+08</td>\n",
       "    </tr>\n",
       "    <tr>\n",
       "      <th>min_number_transactions</th>\n",
       "      <td>384487.0</td>\n",
       "      <td>129.0</td>\n",
       "      <td>6.776514e+07</td>\n",
       "    </tr>\n",
       "    <tr>\n",
       "      <th>min_spend</th>\n",
       "      <td>439269.0</td>\n",
       "      <td>151.0</td>\n",
       "      <td>7.942254e+07</td>\n",
       "    </tr>\n",
       "    <tr>\n",
       "      <th>start</th>\n",
       "      <td>662580.0</td>\n",
       "      <td>283.0</td>\n",
       "      <td>1.222862e+08</td>\n",
       "    </tr>\n",
       "  </tbody>\n",
       "</table>\n",
       "</div>"
      ],
      "text/plain": [
       "                           counts                     \n",
       "metric                        txs  users         value\n",
       "step                                                  \n",
       "current_account          636792.0  227.0  1.185223e+08\n",
       "diverse_spending         384487.0  129.0  6.776514e+07\n",
       "drop_noise               662580.0  283.0  1.222862e+08\n",
       "end                      384487.0  129.0  6.776514e+07\n",
       "min_number_of_months     653239.0  239.0  1.207088e+08\n",
       "min_number_transactions  384487.0  129.0  6.776514e+07\n",
       "min_spend                439269.0  151.0  7.942254e+07\n",
       "start                    662580.0  283.0  1.222862e+08"
      ]
     },
     "execution_count": 45,
     "metadata": {},
     "output_type": "execute_result"
    }
   ],
   "source": [
    "df.unstack(1)"
   ]
  },
  {
   "cell_type": "code",
   "execution_count": 41,
   "metadata": {},
   "outputs": [
    {
     "data": {
      "text/html": [
       "<div>\n",
       "<style scoped>\n",
       "    .dataframe tbody tr th:only-of-type {\n",
       "        vertical-align: middle;\n",
       "    }\n",
       "\n",
       "    .dataframe tbody tr th {\n",
       "        vertical-align: top;\n",
       "    }\n",
       "\n",
       "    .dataframe thead tr th {\n",
       "        text-align: left;\n",
       "    }\n",
       "\n",
       "    .dataframe thead tr:last-of-type th {\n",
       "        text-align: right;\n",
       "    }\n",
       "</style>\n",
       "<table border=\"1\" class=\"dataframe\">\n",
       "  <thead>\n",
       "    <tr>\n",
       "      <th></th>\n",
       "      <th colspan=\"3\" halign=\"left\">counts</th>\n",
       "    </tr>\n",
       "    <tr>\n",
       "      <th>metric</th>\n",
       "      <th>txs</th>\n",
       "      <th>users</th>\n",
       "      <th>value</th>\n",
       "    </tr>\n",
       "    <tr>\n",
       "      <th>step</th>\n",
       "      <th></th>\n",
       "      <th></th>\n",
       "      <th></th>\n",
       "    </tr>\n",
       "  </thead>\n",
       "  <tbody>\n",
       "    <tr>\n",
       "      <th>current_account</th>\n",
       "      <td>636792.0</td>\n",
       "      <td>227.0</td>\n",
       "      <td>1.185223e+08</td>\n",
       "    </tr>\n",
       "    <tr>\n",
       "      <th>diverse_spending</th>\n",
       "      <td>384487.0</td>\n",
       "      <td>129.0</td>\n",
       "      <td>6.776514e+07</td>\n",
       "    </tr>\n",
       "    <tr>\n",
       "      <th>drop_noise</th>\n",
       "      <td>662580.0</td>\n",
       "      <td>283.0</td>\n",
       "      <td>1.222862e+08</td>\n",
       "    </tr>\n",
       "    <tr>\n",
       "      <th>end</th>\n",
       "      <td>384487.0</td>\n",
       "      <td>129.0</td>\n",
       "      <td>6.776514e+07</td>\n",
       "    </tr>\n",
       "    <tr>\n",
       "      <th>min_number_of_months</th>\n",
       "      <td>653239.0</td>\n",
       "      <td>239.0</td>\n",
       "      <td>1.207088e+08</td>\n",
       "    </tr>\n",
       "  </tbody>\n",
       "</table>\n",
       "</div>"
      ],
      "text/plain": [
       "                        counts                     \n",
       "metric                     txs  users         value\n",
       "step                                               \n",
       "current_account       636792.0  227.0  1.185223e+08\n",
       "diverse_spending      384487.0  129.0  6.776514e+07\n",
       "drop_noise            662580.0  283.0  1.222862e+08\n",
       "end                   384487.0  129.0  6.776514e+07\n",
       "min_number_of_months  653239.0  239.0  1.207088e+08"
      ]
     },
     "execution_count": 41,
     "metadata": {},
     "output_type": "execute_result"
    }
   ],
   "source": [
    "df.columns.droplevel(0)\n",
    "df.columns.name = None\n",
    "df.head()"
   ]
  },
  {
   "cell_type": "code",
   "execution_count": 19,
   "metadata": {},
   "outputs": [
    {
     "ename": "AttributeError",
     "evalue": "'NoneType' object has no attribute 'drop'",
     "output_type": "error",
     "traceback": [
      "\u001b[0;31m---------------------------------------------------------------------------\u001b[0m",
      "\u001b[0;31mAttributeError\u001b[0m                            Traceback (most recent call last)",
      "\u001b[0;32m<ipython-input-19-b48532f5290c>\u001b[0m in \u001b[0;36m<module>\u001b[0;34m\u001b[0m\n\u001b[0;32m----> 1\u001b[0;31m \u001b[0mdd\u001b[0m\u001b[0;34m.\u001b[0m\u001b[0mdrop\u001b[0m\u001b[0;34m\u001b[0m\u001b[0;34m\u001b[0m\u001b[0m\n\u001b[0m",
      "\u001b[0;31mAttributeError\u001b[0m: 'NoneType' object has no attribute 'drop'"
     ]
    }
   ],
   "source": [
    "dd.drop"
   ]
  },
  {
   "cell_type": "code",
   "execution_count": 11,
   "metadata": {},
   "outputs": [
    {
     "data": {
      "text/plain": [
       "OrderedCounter(OrderedDict([('s_a', 6), ('s_b', 8), ('k_a', 10), ('k_b', 12)]))"
      ]
     },
     "execution_count": 11,
     "metadata": {},
     "output_type": "execute_result"
    }
   ],
   "source": [
    "a = OrderedCounter()\n",
    "a.update(s_a=1, s_b=2, k_a=3, k_b=4)\n",
    "a.update(s_a=5, s_b=6, k_a=7, k_b=8)\n",
    "a"
   ]
  },
  {
   "cell_type": "markdown",
   "metadata": {},
   "source": [
    "Turn it into a dataframe."
   ]
  },
  {
   "cell_type": "code",
   "execution_count": 12,
   "metadata": {},
   "outputs": [
    {
     "data": {
      "text/html": [
       "<div>\n",
       "<style scoped>\n",
       "    .dataframe tbody tr th:only-of-type {\n",
       "        vertical-align: middle;\n",
       "    }\n",
       "\n",
       "    .dataframe tbody tr th {\n",
       "        vertical-align: top;\n",
       "    }\n",
       "\n",
       "    .dataframe thead th {\n",
       "        text-align: right;\n",
       "    }\n",
       "</style>\n",
       "<table border=\"1\" class=\"dataframe\">\n",
       "  <thead>\n",
       "    <tr style=\"text-align: right;\">\n",
       "      <th></th>\n",
       "      <th>step</th>\n",
       "      <th>count</th>\n",
       "    </tr>\n",
       "  </thead>\n",
       "  <tbody>\n",
       "    <tr>\n",
       "      <th>0</th>\n",
       "      <td>s_a</td>\n",
       "      <td>6</td>\n",
       "    </tr>\n",
       "    <tr>\n",
       "      <th>1</th>\n",
       "      <td>s_b</td>\n",
       "      <td>8</td>\n",
       "    </tr>\n",
       "    <tr>\n",
       "      <th>2</th>\n",
       "      <td>k_a</td>\n",
       "      <td>10</td>\n",
       "    </tr>\n",
       "    <tr>\n",
       "      <th>3</th>\n",
       "      <td>k_b</td>\n",
       "      <td>12</td>\n",
       "    </tr>\n",
       "  </tbody>\n",
       "</table>\n",
       "</div>"
      ],
      "text/plain": [
       "  step  count\n",
       "0  s_a      6\n",
       "1  s_b      8\n",
       "2  k_a     10\n",
       "3  k_b     12"
      ]
     },
     "execution_count": 12,
     "metadata": {},
     "output_type": "execute_result"
    }
   ],
   "source": [
    "df = pd.DataFrame(a.items(), columns=['step', 'count'])\n",
    "df"
   ]
  },
  {
   "cell_type": "markdown",
   "metadata": {},
   "source": [
    "Split the step column"
   ]
  },
  {
   "cell_type": "code",
   "execution_count": 13,
   "metadata": {},
   "outputs": [
    {
     "data": {
      "text/html": [
       "<div>\n",
       "<style scoped>\n",
       "    .dataframe tbody tr th:only-of-type {\n",
       "        vertical-align: middle;\n",
       "    }\n",
       "\n",
       "    .dataframe tbody tr th {\n",
       "        vertical-align: top;\n",
       "    }\n",
       "\n",
       "    .dataframe thead th {\n",
       "        text-align: right;\n",
       "    }\n",
       "</style>\n",
       "<table border=\"1\" class=\"dataframe\">\n",
       "  <thead>\n",
       "    <tr style=\"text-align: right;\">\n",
       "      <th></th>\n",
       "      <th>step</th>\n",
       "      <th>count</th>\n",
       "      <th>metric</th>\n",
       "    </tr>\n",
       "  </thead>\n",
       "  <tbody>\n",
       "    <tr>\n",
       "      <th>0</th>\n",
       "      <td>s</td>\n",
       "      <td>6</td>\n",
       "      <td>a</td>\n",
       "    </tr>\n",
       "    <tr>\n",
       "      <th>1</th>\n",
       "      <td>s</td>\n",
       "      <td>8</td>\n",
       "      <td>b</td>\n",
       "    </tr>\n",
       "    <tr>\n",
       "      <th>2</th>\n",
       "      <td>k</td>\n",
       "      <td>10</td>\n",
       "      <td>a</td>\n",
       "    </tr>\n",
       "    <tr>\n",
       "      <th>3</th>\n",
       "      <td>k</td>\n",
       "      <td>12</td>\n",
       "      <td>b</td>\n",
       "    </tr>\n",
       "  </tbody>\n",
       "</table>\n",
       "</div>"
      ],
      "text/plain": [
       "  step  count metric\n",
       "0    s      6      a\n",
       "1    s      8      b\n",
       "2    k     10      a\n",
       "3    k     12      b"
      ]
     },
     "execution_count": 13,
     "metadata": {},
     "output_type": "execute_result"
    }
   ],
   "source": [
    "df[['step', 'metric']] = df.step.str.split('_', expand=True)\n",
    "df"
   ]
  },
  {
   "cell_type": "markdown",
   "metadata": {},
   "source": [
    "Unstack"
   ]
  },
  {
   "cell_type": "code",
   "execution_count": 6,
   "metadata": {},
   "outputs": [
    {
     "data": {
      "text/html": [
       "<div>\n",
       "<style scoped>\n",
       "    .dataframe tbody tr th:only-of-type {\n",
       "        vertical-align: middle;\n",
       "    }\n",
       "\n",
       "    .dataframe tbody tr th {\n",
       "        vertical-align: top;\n",
       "    }\n",
       "\n",
       "    .dataframe thead tr th {\n",
       "        text-align: left;\n",
       "    }\n",
       "\n",
       "    .dataframe thead tr:last-of-type th {\n",
       "        text-align: right;\n",
       "    }\n",
       "</style>\n",
       "<table border=\"1\" class=\"dataframe\">\n",
       "  <thead>\n",
       "    <tr>\n",
       "      <th></th>\n",
       "      <th colspan=\"2\" halign=\"left\">count</th>\n",
       "    </tr>\n",
       "    <tr>\n",
       "      <th>metric</th>\n",
       "      <th>a</th>\n",
       "      <th>b</th>\n",
       "    </tr>\n",
       "    <tr>\n",
       "      <th>step</th>\n",
       "      <th></th>\n",
       "      <th></th>\n",
       "    </tr>\n",
       "  </thead>\n",
       "  <tbody>\n",
       "    <tr>\n",
       "      <th>k</th>\n",
       "      <td>10</td>\n",
       "      <td>12</td>\n",
       "    </tr>\n",
       "    <tr>\n",
       "      <th>s</th>\n",
       "      <td>6</td>\n",
       "      <td>8</td>\n",
       "    </tr>\n",
       "  </tbody>\n",
       "</table>\n",
       "</div>"
      ],
      "text/plain": [
       "       count    \n",
       "metric     a   b\n",
       "step            \n",
       "k         10  12\n",
       "s          6   8"
      ]
     },
     "execution_count": 6,
     "metadata": {},
     "output_type": "execute_result"
    }
   ],
   "source": [
    "df = df.set_index(['step', 'metric']).unstack(1)\n",
    "df"
   ]
  },
  {
   "cell_type": "markdown",
   "metadata": {},
   "source": [
    "Flatten"
   ]
  },
  {
   "cell_type": "code",
   "execution_count": 7,
   "metadata": {},
   "outputs": [
    {
     "data": {
      "text/html": [
       "<div>\n",
       "<style scoped>\n",
       "    .dataframe tbody tr th:only-of-type {\n",
       "        vertical-align: middle;\n",
       "    }\n",
       "\n",
       "    .dataframe tbody tr th {\n",
       "        vertical-align: top;\n",
       "    }\n",
       "\n",
       "    .dataframe thead th {\n",
       "        text-align: right;\n",
       "    }\n",
       "</style>\n",
       "<table border=\"1\" class=\"dataframe\">\n",
       "  <thead>\n",
       "    <tr style=\"text-align: right;\">\n",
       "      <th>metric</th>\n",
       "      <th>a</th>\n",
       "      <th>b</th>\n",
       "    </tr>\n",
       "    <tr>\n",
       "      <th>step</th>\n",
       "      <th></th>\n",
       "      <th></th>\n",
       "    </tr>\n",
       "  </thead>\n",
       "  <tbody>\n",
       "    <tr>\n",
       "      <th>k</th>\n",
       "      <td>10</td>\n",
       "      <td>12</td>\n",
       "    </tr>\n",
       "    <tr>\n",
       "      <th>s</th>\n",
       "      <td>6</td>\n",
       "      <td>8</td>\n",
       "    </tr>\n",
       "  </tbody>\n",
       "</table>\n",
       "</div>"
      ],
      "text/plain": [
       "metric   a   b\n",
       "step          \n",
       "k       10  12\n",
       "s        6   8"
      ]
     },
     "execution_count": 7,
     "metadata": {},
     "output_type": "execute_result"
    }
   ],
   "source": [
    "df.columns = df.columns.droplevel(0)\n",
    "df"
   ]
  },
  {
   "cell_type": "code",
   "execution_count": 126,
   "metadata": {},
   "outputs": [],
   "source": [
    "df.columns.name = None"
   ]
  },
  {
   "cell_type": "code",
   "execution_count": 127,
   "metadata": {},
   "outputs": [
    {
     "data": {
      "text/html": [
       "<div>\n",
       "<style scoped>\n",
       "    .dataframe tbody tr th:only-of-type {\n",
       "        vertical-align: middle;\n",
       "    }\n",
       "\n",
       "    .dataframe tbody tr th {\n",
       "        vertical-align: top;\n",
       "    }\n",
       "\n",
       "    .dataframe thead th {\n",
       "        text-align: right;\n",
       "    }\n",
       "</style>\n",
       "<table border=\"1\" class=\"dataframe\">\n",
       "  <thead>\n",
       "    <tr style=\"text-align: right;\">\n",
       "      <th></th>\n",
       "      <th>a</th>\n",
       "      <th>b</th>\n",
       "    </tr>\n",
       "    <tr>\n",
       "      <th>step</th>\n",
       "      <th></th>\n",
       "      <th></th>\n",
       "    </tr>\n",
       "  </thead>\n",
       "  <tbody>\n",
       "    <tr>\n",
       "      <th>k</th>\n",
       "      <td>10</td>\n",
       "      <td>12</td>\n",
       "    </tr>\n",
       "    <tr>\n",
       "      <th>s</th>\n",
       "      <td>6</td>\n",
       "      <td>8</td>\n",
       "    </tr>\n",
       "  </tbody>\n",
       "</table>\n",
       "</div>"
      ],
      "text/plain": [
       "       a   b\n",
       "step        \n",
       "k     10  12\n",
       "s      6   8"
      ]
     },
     "execution_count": 127,
     "metadata": {},
     "output_type": "execute_result"
    }
   ],
   "source": [
    "df"
   ]
  },
  {
   "cell_type": "code",
   "execution_count": 128,
   "metadata": {},
   "outputs": [
    {
     "data": {
      "text/html": [
       "<div>\n",
       "<style scoped>\n",
       "    .dataframe tbody tr th:only-of-type {\n",
       "        vertical-align: middle;\n",
       "    }\n",
       "\n",
       "    .dataframe tbody tr th {\n",
       "        vertical-align: top;\n",
       "    }\n",
       "\n",
       "    .dataframe thead th {\n",
       "        text-align: right;\n",
       "    }\n",
       "</style>\n",
       "<table border=\"1\" class=\"dataframe\">\n",
       "  <thead>\n",
       "    <tr style=\"text-align: right;\">\n",
       "      <th></th>\n",
       "      <th>step</th>\n",
       "      <th>a</th>\n",
       "      <th>b</th>\n",
       "    </tr>\n",
       "  </thead>\n",
       "  <tbody>\n",
       "    <tr>\n",
       "      <th>0</th>\n",
       "      <td>k</td>\n",
       "      <td>10</td>\n",
       "      <td>12</td>\n",
       "    </tr>\n",
       "    <tr>\n",
       "      <th>1</th>\n",
       "      <td>s</td>\n",
       "      <td>6</td>\n",
       "      <td>8</td>\n",
       "    </tr>\n",
       "  </tbody>\n",
       "</table>\n",
       "</div>"
      ],
      "text/plain": [
       "  step   a   b\n",
       "0    k  10  12\n",
       "1    s   6   8"
      ]
     },
     "execution_count": 128,
     "metadata": {},
     "output_type": "execute_result"
    }
   ],
   "source": [
    "df.reset_index()"
   ]
  },
  {
   "cell_type": "code",
   "execution_count": null,
   "metadata": {},
   "outputs": [],
   "source": []
  },
  {
   "cell_type": "markdown",
   "metadata": {},
   "source": [
    "## Main sources\n",
    "\n",
    "- [Fluent Python](https://www.oreilly.com/library/view/fluent-python/9781491946237/)\n",
    "- [Python Cookbook](https://www.oreilly.com/library/view/python-cookbook-3rd/9781449357337/)\n",
    "- [Learning Python](https://www.oreilly.com/library/view/learning-python-5th/9781449355722/)"
   ]
  },
  {
   "cell_type": "code",
   "execution_count": null,
   "metadata": {},
   "outputs": [],
   "source": []
  }
 ],
 "metadata": {
  "kernelspec": {
   "display_name": "habits",
   "language": "python",
   "name": "habits"
  },
  "language_info": {
   "codemirror_mode": {
    "name": "ipython",
    "version": 3
   },
   "file_extension": ".py",
   "mimetype": "text/x-python",
   "name": "python",
   "nbconvert_exporter": "python",
   "pygments_lexer": "ipython3",
   "version": "3.7.7"
  }
 },
 "nbformat": 4,
 "nbformat_minor": 4
}
