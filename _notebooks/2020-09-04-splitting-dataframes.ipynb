{
 "cells": [
  {
   "cell_type": "markdown",
   "metadata": {},
   "source": [
    "# Splitting dataframes based on column values\n",
    "\n",
    "- toc: true \n",
    "- badges: true\n",
    "- comments: true\n",
    "- categories: [python, pandas]"
   ]
  },
  {
   "cell_type": "code",
   "execution_count": 1,
   "metadata": {},
   "outputs": [],
   "source": [
    "import pandas as pd\n",
    "import numpy as np"
   ]
  },
  {
   "cell_type": "markdown",
   "metadata": {},
   "source": [
    "## The problem"
   ]
  },
  {
   "cell_type": "code",
   "execution_count": 2,
   "metadata": {},
   "outputs": [
    {
     "data": {
      "text/html": [
       "<div>\n",
       "<style scoped>\n",
       "    .dataframe tbody tr th:only-of-type {\n",
       "        vertical-align: middle;\n",
       "    }\n",
       "\n",
       "    .dataframe tbody tr th {\n",
       "        vertical-align: top;\n",
       "    }\n",
       "\n",
       "    .dataframe thead th {\n",
       "        text-align: right;\n",
       "    }\n",
       "</style>\n",
       "<table border=\"1\" class=\"dataframe\">\n",
       "  <thead>\n",
       "    <tr style=\"text-align: right;\">\n",
       "      <th></th>\n",
       "      <th>case</th>\n",
       "      <th>data</th>\n",
       "    </tr>\n",
       "  </thead>\n",
       "  <tbody>\n",
       "    <tr>\n",
       "      <th>0</th>\n",
       "      <td>A</td>\n",
       "      <td>0.684978</td>\n",
       "    </tr>\n",
       "    <tr>\n",
       "      <th>1</th>\n",
       "      <td>A</td>\n",
       "      <td>0.000269</td>\n",
       "    </tr>\n",
       "    <tr>\n",
       "      <th>2</th>\n",
       "      <td>A</td>\n",
       "      <td>-1.040497</td>\n",
       "    </tr>\n",
       "    <tr>\n",
       "      <th>3</th>\n",
       "      <td>B</td>\n",
       "      <td>0.451358</td>\n",
       "    </tr>\n",
       "    <tr>\n",
       "      <th>4</th>\n",
       "      <td>A</td>\n",
       "      <td>0.448596</td>\n",
       "    </tr>\n",
       "    <tr>\n",
       "      <th>5</th>\n",
       "      <td>A</td>\n",
       "      <td>0.222168</td>\n",
       "    </tr>\n",
       "    <tr>\n",
       "      <th>6</th>\n",
       "      <td>B</td>\n",
       "      <td>1.031011</td>\n",
       "    </tr>\n",
       "    <tr>\n",
       "      <th>7</th>\n",
       "      <td>A</td>\n",
       "      <td>-2.208787</td>\n",
       "    </tr>\n",
       "    <tr>\n",
       "      <th>8</th>\n",
       "      <td>A</td>\n",
       "      <td>-0.440758</td>\n",
       "    </tr>\n",
       "  </tbody>\n",
       "</table>\n",
       "</div>"
      ],
      "text/plain": [
       "  case      data\n",
       "0    A  0.684978\n",
       "1    A  0.000269\n",
       "2    A -1.040497\n",
       "3    B  0.451358\n",
       "4    A  0.448596\n",
       "5    A  0.222168\n",
       "6    B  1.031011\n",
       "7    A -2.208787\n",
       "8    A -0.440758"
      ]
     },
     "execution_count": 2,
     "metadata": {},
     "output_type": "execute_result"
    }
   ],
   "source": [
    "df = pd.DataFrame(data={'case': ['A', 'A', 'A', 'B', 'A', 'A', 'B', 'A','A'],\n",
    "                        'data': np.random.randn(9)})\n",
    "df"
   ]
  },
  {
   "cell_type": "markdown",
   "metadata": {},
   "source": [
    "You want to split the dataframe every time case equals B and store the resulting dataframes in a list."
   ]
  },
  {
   "cell_type": "markdown",
   "metadata": {},
   "source": [
    "## Understanding the cookbook solution"
   ]
  },
  {
   "cell_type": "markdown",
   "metadata": {},
   "source": [
    "From the [cookbook](https://pandas.pydata.org/pandas-docs/stable/user_guide/cookbook.html#id2):"
   ]
  },
  {
   "cell_type": "code",
   "execution_count": 3,
   "metadata": {},
   "outputs": [
    {
     "data": {
      "text/plain": [
       "(  case      data\n",
       " 0    A  0.684978\n",
       " 1    A  0.000269\n",
       " 2    A -1.040497\n",
       " 3    B  0.451358,\n",
       "   case      data\n",
       " 4    A  0.448596\n",
       " 5    A  0.222168\n",
       " 6    B  1.031011,\n",
       "   case      data\n",
       " 7    A -2.208787\n",
       " 8    A -0.440758)"
      ]
     },
     "execution_count": 3,
     "metadata": {},
     "output_type": "execute_result"
    }
   ],
   "source": [
    "dfs = list(zip(*df.groupby((1 * (df['case'] == 'B')).cumsum().rolling(window=3, min_periods=1).median())))[-1]\n",
    "dfs"
   ]
  },
  {
   "cell_type": "markdown",
   "metadata": {},
   "source": [
    "This works. But because it's so heavily nested and uses methods like `rolling()` and `median()` not really designed for that purpose, the code is impossible to interpret at a glance. \n",
    "\n",
    "Let's break this down into separate pieces.\n",
    "\n",
    "First, the code creates a grouping variable that changes its value each time *case* equaled *B* on the previous row. The code below shows how it does this."
   ]
  },
  {
   "cell_type": "code",
   "execution_count": 4,
   "metadata": {},
   "outputs": [
    {
     "data": {
      "text/plain": [
       "(0    False\n",
       " 1    False\n",
       " 2    False\n",
       " 3     True\n",
       " 4    False\n",
       " 5    False\n",
       " 6     True\n",
       " 7    False\n",
       " 8    False\n",
       " Name: case, dtype: bool,\n",
       " 0    0\n",
       " 1    0\n",
       " 2    0\n",
       " 3    1\n",
       " 4    0\n",
       " 5    0\n",
       " 6    1\n",
       " 7    0\n",
       " 8    0\n",
       " Name: case, dtype: int64,\n",
       " 0    0\n",
       " 1    0\n",
       " 2    0\n",
       " 3    1\n",
       " 4    1\n",
       " 5    1\n",
       " 6    2\n",
       " 7    2\n",
       " 8    2\n",
       " Name: case, dtype: int64,\n",
       " 0    0.0\n",
       " 1    0.0\n",
       " 2    0.0\n",
       " 3    0.0\n",
       " 4    1.0\n",
       " 5    1.0\n",
       " 6    1.0\n",
       " 7    2.0\n",
       " 8    2.0\n",
       " Name: case, dtype: float64)"
      ]
     },
     "execution_count": 4,
     "metadata": {},
     "output_type": "execute_result"
    }
   ],
   "source": [
    "# Creating grouping variable\n",
    "\n",
    "a = (df.case == 'B')\n",
    "b = 1 * (df.case == 'B')\n",
    "c = 1 * (df.case == 'B').cumsum()\n",
    "d = 1 * (df.case == 'B').cumsum().rolling(window=3, min_periods=1).median()\n",
    "\n",
    "a, b, c, d"
   ]
  },
  {
   "cell_type": "markdown",
   "metadata": {},
   "source": [
    "Series *d* above is the argument passed to `groupby()` in the solution. This works, but is a very roundabout way to create such a series. I'll use a different approach below.\n",
    "\n",
    "Next, the code uses `list()`, `zip()`, and argument expansion to pack the data for each group into a single list of dataframes. Let's look at these one by one."
   ]
  },
  {
   "cell_type": "markdown",
   "metadata": {},
   "source": [
    "First, a quick review of how argument expansion works:"
   ]
  },
  {
   "cell_type": "code",
   "execution_count": 5,
   "metadata": {},
   "outputs": [
    {
     "name": "stdout",
     "output_type": "stream",
     "text": [
      "Printing args:\n",
      "a\n",
      "2\n",
      "k\n",
      "3\n",
      "Printing kwargs:\n",
      "('first', 1)\n",
      "('second', 2)\n"
     ]
    }
   ],
   "source": [
    "def printer(*args, **kwargs):    \n",
    "    print('Printing args:')\n",
    "    for arg in args:\n",
    "        print(arg)\n",
    "    print('Printing kwargs:')\n",
    "    for kwarg in kwargs.items():\n",
    "        print(kwarg)\n",
    "    \n",
    "mylist = ['a', 2, 'k', 3]\n",
    "mydict = {'first': 1, 'second': 2}\n",
    "\n",
    "printer(*mylist, **mydict)"
   ]
  },
  {
   "cell_type": "markdown",
   "metadata": {},
   "source": [
    "Now, `groupby()` stores the grouped data as (label, dataframe) tuples, like so: "
   ]
  },
  {
   "cell_type": "code",
   "execution_count": 6,
   "metadata": {},
   "outputs": [
    {
     "name": "stdout",
     "output_type": "stream",
     "text": [
      "('A',   case      data\n",
      "0    A  0.684978\n",
      "1    A  0.000269\n",
      "2    A -1.040497\n",
      "4    A  0.448596\n",
      "5    A  0.222168\n",
      "7    A -2.208787\n",
      "8    A -0.440758)\n",
      "<class 'tuple'>\n",
      "('B',   case      data\n",
      "3    B  0.451358\n",
      "6    B  1.031011)\n",
      "<class 'tuple'>\n"
     ]
    }
   ],
   "source": [
    "groups = df.groupby('case')\n",
    "for g in groups:\n",
    "    print(g)\n",
    "    print(type(g))"
   ]
  },
  {
   "cell_type": "markdown",
   "metadata": {},
   "source": [
    "So `zip()` is used to separate the group label from the data, and `list()` consumes the iterator created by zip and displays its content."
   ]
  },
  {
   "cell_type": "code",
   "execution_count": 7,
   "metadata": {},
   "outputs": [
    {
     "data": {
      "text/plain": [
       "[('A', 'B'),\n",
       " (  case      data\n",
       "  0    A  0.684978\n",
       "  1    A  0.000269\n",
       "  2    A -1.040497\n",
       "  4    A  0.448596\n",
       "  5    A  0.222168\n",
       "  7    A -2.208787\n",
       "  8    A -0.440758,\n",
       "    case      data\n",
       "  3    B  0.451358\n",
       "  6    B  1.031011)]"
      ]
     },
     "execution_count": 7,
     "metadata": {},
     "output_type": "execute_result"
    }
   ],
   "source": [
    "list(zip(*groups))"
   ]
  },
  {
   "cell_type": "markdown",
   "metadata": {},
   "source": [
    "Because we only want the data, we select the last element from the list: "
   ]
  },
  {
   "cell_type": "code",
   "execution_count": 8,
   "metadata": {},
   "outputs": [
    {
     "data": {
      "text/plain": [
       "(  case      data\n",
       " 0    A  0.684978\n",
       " 1    A  0.000269\n",
       " 2    A -1.040497\n",
       " 4    A  0.448596\n",
       " 5    A  0.222168\n",
       " 7    A -2.208787\n",
       " 8    A -0.440758,\n",
       "   case      data\n",
       " 3    B  0.451358\n",
       " 6    B  1.031011)"
      ]
     },
     "execution_count": 8,
     "metadata": {},
     "output_type": "execute_result"
    }
   ],
   "source": [
    "list(zip(*groups))[-1]"
   ]
  },
  {
   "cell_type": "markdown",
   "metadata": {},
   "source": [
    "Now we're basically done. What remains is to use the `list(zip(*groups))` procedure on the more complicated grouping variable, to obtain the original result."
   ]
  },
  {
   "cell_type": "code",
   "execution_count": 9,
   "metadata": {},
   "outputs": [
    {
     "data": {
      "text/plain": [
       "(  case      data\n",
       " 0    A  0.684978\n",
       " 1    A  0.000269\n",
       " 2    A -1.040497\n",
       " 3    B  0.451358,\n",
       "   case      data\n",
       " 4    A  0.448596\n",
       " 5    A  0.222168\n",
       " 6    B  1.031011,\n",
       "   case      data\n",
       " 7    A -2.208787\n",
       " 8    A -0.440758)"
      ]
     },
     "execution_count": 9,
     "metadata": {},
     "output_type": "execute_result"
    }
   ],
   "source": [
    "d = 1 * (df.case == 'B').cumsum().rolling(window=3, min_periods=1).median()\n",
    "groups = df.groupby(d)\n",
    "list(zip(*groups))[-1]"
   ]
  },
  {
   "cell_type": "markdown",
   "metadata": {},
   "source": [
    "## Simplifying the code"
   ]
  },
  {
   "cell_type": "markdown",
   "metadata": {},
   "source": [
    "I think this can be made much more readable like so:"
   ]
  },
  {
   "cell_type": "code",
   "execution_count": 10,
   "metadata": {},
   "outputs": [
    {
     "data": {
      "text/html": [
       "<div>\n",
       "<style scoped>\n",
       "    .dataframe tbody tr th:only-of-type {\n",
       "        vertical-align: middle;\n",
       "    }\n",
       "\n",
       "    .dataframe tbody tr th {\n",
       "        vertical-align: top;\n",
       "    }\n",
       "\n",
       "    .dataframe thead th {\n",
       "        text-align: right;\n",
       "    }\n",
       "</style>\n",
       "<table border=\"1\" class=\"dataframe\">\n",
       "  <thead>\n",
       "    <tr style=\"text-align: right;\">\n",
       "      <th></th>\n",
       "      <th>case</th>\n",
       "      <th>data</th>\n",
       "    </tr>\n",
       "  </thead>\n",
       "  <tbody>\n",
       "    <tr>\n",
       "      <th>0</th>\n",
       "      <td>A</td>\n",
       "      <td>0.684978</td>\n",
       "    </tr>\n",
       "    <tr>\n",
       "      <th>1</th>\n",
       "      <td>A</td>\n",
       "      <td>0.000269</td>\n",
       "    </tr>\n",
       "    <tr>\n",
       "      <th>2</th>\n",
       "      <td>A</td>\n",
       "      <td>-1.040497</td>\n",
       "    </tr>\n",
       "    <tr>\n",
       "      <th>3</th>\n",
       "      <td>B</td>\n",
       "      <td>0.451358</td>\n",
       "    </tr>\n",
       "    <tr>\n",
       "      <th>4</th>\n",
       "      <td>A</td>\n",
       "      <td>0.448596</td>\n",
       "    </tr>\n",
       "    <tr>\n",
       "      <th>5</th>\n",
       "      <td>A</td>\n",
       "      <td>0.222168</td>\n",
       "    </tr>\n",
       "    <tr>\n",
       "      <th>6</th>\n",
       "      <td>B</td>\n",
       "      <td>1.031011</td>\n",
       "    </tr>\n",
       "    <tr>\n",
       "      <th>7</th>\n",
       "      <td>A</td>\n",
       "      <td>-2.208787</td>\n",
       "    </tr>\n",
       "    <tr>\n",
       "      <th>8</th>\n",
       "      <td>A</td>\n",
       "      <td>-0.440758</td>\n",
       "    </tr>\n",
       "  </tbody>\n",
       "</table>\n",
       "</div>"
      ],
      "text/plain": [
       "  case      data\n",
       "0    A  0.684978\n",
       "1    A  0.000269\n",
       "2    A -1.040497\n",
       "3    B  0.451358\n",
       "4    A  0.448596\n",
       "5    A  0.222168\n",
       "6    B  1.031011\n",
       "7    A -2.208787\n",
       "8    A -0.440758"
      ]
     },
     "execution_count": 10,
     "metadata": {},
     "output_type": "execute_result"
    }
   ],
   "source": [
    "df"
   ]
  },
  {
   "cell_type": "code",
   "execution_count": 11,
   "metadata": {},
   "outputs": [
    {
     "data": {
      "text/plain": [
       "0    0.0\n",
       "1    0.0\n",
       "2    0.0\n",
       "3    0.0\n",
       "4    1.0\n",
       "5    1.0\n",
       "6    1.0\n",
       "7    2.0\n",
       "8    2.0\n",
       "Name: case, dtype: float64"
      ]
     },
     "execution_count": 11,
     "metadata": {},
     "output_type": "execute_result"
    }
   ],
   "source": [
    "grouper = df.case.eq('B').cumsum().shift().fillna(0)\n",
    "grouper"
   ]
  },
  {
   "cell_type": "code",
   "execution_count": 12,
   "metadata": {},
   "outputs": [
    {
     "data": {
      "text/plain": [
       "[  case      data\n",
       " 0    A  0.684978\n",
       " 1    A  0.000269\n",
       " 2    A -1.040497\n",
       " 3    B  0.451358,\n",
       "   case      data\n",
       " 4    A  0.448596\n",
       " 5    A  0.222168\n",
       " 6    B  1.031011,\n",
       "   case      data\n",
       " 7    A -2.208787\n",
       " 8    A -0.440758]"
      ]
     },
     "execution_count": 12,
     "metadata": {},
     "output_type": "execute_result"
    }
   ],
   "source": [
    "dfs = [df for (g, df) in df.groupby(grouper)]\n",
    "dfs"
   ]
  },
  {
   "cell_type": "markdown",
   "metadata": {},
   "source": [
    "In case the logic of this isn't immediately obvious, the below makes clear what's going on."
   ]
  },
  {
   "cell_type": "code",
   "execution_count": 13,
   "metadata": {},
   "outputs": [
    {
     "data": {
      "text/plain": [
       "(case\n",
       " A    False\n",
       " A    False\n",
       " A    False\n",
       " B     True\n",
       " A    False\n",
       " A    False\n",
       " B     True\n",
       " A    False\n",
       " A    False\n",
       " Name: case, dtype: bool,\n",
       " case\n",
       " A    0\n",
       " A    0\n",
       " A    0\n",
       " B    1\n",
       " A    1\n",
       " A    1\n",
       " B    2\n",
       " A    2\n",
       " A    2\n",
       " Name: case, dtype: int64,\n",
       " case\n",
       " A    NaN\n",
       " A    0.0\n",
       " A    0.0\n",
       " B    0.0\n",
       " A    1.0\n",
       " A    1.0\n",
       " B    1.0\n",
       " A    2.0\n",
       " A    2.0\n",
       " Name: case, dtype: float64,\n",
       " case\n",
       " A    0.0\n",
       " A    0.0\n",
       " A    0.0\n",
       " B    0.0\n",
       " A    1.0\n",
       " A    1.0\n",
       " B    1.0\n",
       " A    2.0\n",
       " A    2.0\n",
       " Name: case, dtype: float64)"
      ]
     },
     "execution_count": 13,
     "metadata": {},
     "output_type": "execute_result"
    }
   ],
   "source": [
    "dd = df.set_index('case', drop=False)   # Use case as index for clarity\n",
    "a = dd.case.eq('B')                     # Boolean logic\n",
    "b = a.cumsum()                          # Create groups\n",
    "c = b.shift()                           # Shift so B included in previous group\n",
    "d = c.fillna(0)                         # Replace 0th element emptied by shift\n",
    "a, b, c, d"
   ]
  }
 ],
 "metadata": {
  "kernelspec": {
   "display_name": "habits",
   "language": "python",
   "name": "habits"
  },
  "language_info": {
   "codemirror_mode": {
    "name": "ipython",
    "version": 3
   },
   "file_extension": ".py",
   "mimetype": "text/x-python",
   "name": "python",
   "nbconvert_exporter": "python",
   "pygments_lexer": "ipython3",
   "version": "3.7.7"
  }
 },
 "nbformat": 4,
 "nbformat_minor": 4
}
