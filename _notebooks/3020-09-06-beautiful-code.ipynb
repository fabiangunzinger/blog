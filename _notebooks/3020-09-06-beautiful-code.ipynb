{
 "cells": [
  {
   "cell_type": "markdown",
   "metadata": {},
   "source": [
    "# Beautiful code\n",
    "> \"Notes on how to write beautiful code\"\n",
    "\n",
    "- hide: true\n",
    "- toc: false\n",
    "- badges: true\n",
    "- comments: true\n",
    "- categories: [python, codestyle]"
   ]
  },
  {
   "cell_type": "markdown",
   "metadata": {},
   "source": [
    "Sources to look at:\n",
    "\n",
    "- Hitchhiker's guide (link below)\n",
    "- Google style [guide](https://google.github.io/styleguide/pyguide.html)"
   ]
  },
  {
   "cell_type": "markdown",
   "metadata": {},
   "source": [
    "\"Terseness and obscurity are the limits where brevity should stop\" -- [The Hitchhiker's Guide to Python](https://docs.python-guide.org/writing/structure/)"
   ]
  },
  {
   "cell_type": "markdown",
   "metadata": {},
   "source": [
    "## Principles"
   ]
  },
  {
   "cell_type": "markdown",
   "metadata": {},
   "source": [
    "Based on [this](https://code.tutsplus.com/tutorials/3-key-software-principles-you-must-understand--net-25161)\n",
    "\n",
    "1. "
   ]
  },
  {
   "cell_type": "markdown",
   "metadata": {},
   "source": [
    "## Functions"
   ]
  },
  {
   "cell_type": "markdown",
   "metadata": {},
   "source": [
    "Great code [here](https://docs.python-guide.org/writing/reading/)"
   ]
  },
  {
   "cell_type": "markdown",
   "metadata": {},
   "source": [
    "1. Good names"
   ]
  },
  {
   "cell_type": "markdown",
   "metadata": {},
   "source": [
    "2. Single responsibility"
   ]
  },
  {
   "cell_type": "code",
   "execution_count": 5,
   "metadata": {},
   "outputs": [
    {
     "name": "stdout",
     "output_type": "stream",
     "text": [
      "Mean is 2.5\n",
      "Max is 4\n"
     ]
    }
   ],
   "source": [
    "import pandas as pd\n",
    "df = pd.DataFrame({'data': [1, 2, 3, 4]})\n",
    "\n",
    "# bad\n",
    "def calc_and_print_stats(df):\n",
    "    mean = df.data.mean()\n",
    "    maximum = df.data.max()\n",
    "    print(f'Mean is {mean}')\n",
    "    print(f'Max is {maximum}')\n",
    "    \n",
    "calc_and_print_stats(df)"
   ]
  },
  {
   "cell_type": "code",
   "execution_count": 2,
   "metadata": {},
   "outputs": [
    {
     "name": "stdout",
     "output_type": "stream",
     "text": [
      "Mean is 2.5\n",
      "Max is 4\n"
     ]
    }
   ],
   "source": [
    "# good\n",
    "def calc_stats(df):\n",
    "    return df.data.mean(), df.data.max()\n",
    "\n",
    "def print_stats(stats):\n",
    "    print(f'Mean is {stats[0]}')\n",
    "    print(f'Max is {stats[1]}')   \n",
    "\n",
    "stats = calc_stats(df)\n",
    "print_stats(stats)"
   ]
  },
  {
   "cell_type": "markdown",
   "metadata": {},
   "source": [
    "3. Docstring"
   ]
  },
  {
   "cell_type": "markdown",
   "metadata": {},
   "source": [
    "Follow [PEP-257](https://www.python.org/dev/peps/pep-0257/)."
   ]
  },
  {
   "cell_type": "markdown",
   "metadata": {},
   "source": [
    "4. Return a value"
   ]
  },
  {
   "cell_type": "markdown",
   "metadata": {},
   "source": [
    "Such as True, to show that the function completed when there is nothing obvious to return."
   ]
  },
  {
   "cell_type": "markdown",
   "metadata": {},
   "source": [
    "5. Keep them short"
   ]
  },
  {
   "cell_type": "markdown",
   "metadata": {},
   "source": [
    "Less than 50 lines as a rule of thumb."
   ]
  },
  {
   "cell_type": "markdown",
   "metadata": {},
   "source": [
    "6. Idempotent and pure"
   ]
  },
  {
   "cell_type": "markdown",
   "metadata": {},
   "source": [
    "Idempotent functions return the same output for a given input every time, pure functions are idempotent and have no side-effects."
   ]
  },
  {
   "cell_type": "markdown",
   "metadata": {},
   "source": [
    "# Misc\n",
    "\n",
    "- Use extra variables or functions instead of comments (something I started doing extensively in Stata and now do in Python). Brandon Rhodes [approves](https://www.youtube.com/watch?v=x-kB2o8sd5c).\n",
    "\n"
   ]
  },
  {
   "cell_type": "markdown",
   "metadata": {},
   "source": [
    "## Main sources\n",
    "\n",
    "- [Jeff Knupp post](https://jeffknupp.com/blog/2018/10/11/write-better-python-functions/)"
   ]
  }
 ],
 "metadata": {
  "kernelspec": {
   "display_name": "habits",
   "language": "python",
   "name": "habits"
  },
  "language_info": {
   "codemirror_mode": {
    "name": "ipython",
    "version": 3
   },
   "file_extension": ".py",
   "mimetype": "text/x-python",
   "name": "python",
   "nbconvert_exporter": "python",
   "pygments_lexer": "ipython3",
   "version": "3.7.7"
  }
 },
 "nbformat": 4,
 "nbformat_minor": 4
}
