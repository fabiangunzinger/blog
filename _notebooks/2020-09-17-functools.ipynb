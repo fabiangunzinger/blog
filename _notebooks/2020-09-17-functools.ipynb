{
 "cells": [
  {
   "cell_type": "markdown",
   "metadata": {},
   "source": [
    "# Functools\n",
    "\n",
    "- toc: true\n",
    "- badges: true\n",
    "- comments: true\n",
    "- categories: [python]"
   ]
  },
  {
   "cell_type": "markdown",
   "metadata": {},
   "source": [
    "## partial"
   ]
  },
  {
   "cell_type": "code",
   "execution_count": 1,
   "metadata": {},
   "outputs": [
    {
     "name": "stdout",
     "output_type": "stream",
     "text": [
      "6\n"
     ]
    },
    {
     "data": {
      "text/plain": [
       "6"
      ]
     },
     "execution_count": 1,
     "metadata": {},
     "output_type": "execute_result"
    }
   ],
   "source": [
    "from operator import mul\n",
    "from functools import partial\n",
    "\n",
    "print(mul(2, 3))\n",
    "\n",
    "tripple = partial(mul, 3)\n",
    "tripple(2)"
   ]
  },
  {
   "cell_type": "markdown",
   "metadata": {},
   "source": [
    "## Sources\n",
    "\n",
    "- [Fluent Python](https://www.oreilly.com/library/view/fluent-python/9781491946237/)\n",
    "- [Python Cookbook](https://www.oreilly.com/library/view/python-cookbook-3rd/9781449357337/)"
   ]
  }
 ],
 "metadata": {
  "kernelspec": {
   "display_name": "limo",
   "language": "python",
   "name": "limo"
  },
  "language_info": {
   "codemirror_mode": {
    "name": "ipython",
    "version": 3
   },
   "file_extension": ".py",
   "mimetype": "text/x-python",
   "name": "python",
   "nbconvert_exporter": "python",
   "pygments_lexer": "ipython3",
   "version": "3.7.4"
  }
 },
 "nbformat": 4,
 "nbformat_minor": 4
}
