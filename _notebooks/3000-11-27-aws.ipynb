{
 "cells": [
  {
   "cell_type": "markdown",
   "metadata": {},
   "source": [
    "# New post\n",
    "\n",
    "- hide: true\n",
    "- toc: true\n",
    "- comments: true\n",
    "- categories: [python, aws]"
   ]
  },
  {
   "cell_type": "code",
   "execution_count": 1,
   "metadata": {},
   "outputs": [],
   "source": [
    "from imports import *\n",
    "\n",
    "%config InlineBackend.figure_format = 'retina'\n",
    "%load_ext autoreload\n",
    "%autoreload 2"
   ]
  },
  {
   "cell_type": "code",
   "execution_count": 2,
   "metadata": {},
   "outputs": [],
   "source": [
    "import s3fs"
   ]
  },
  {
   "cell_type": "markdown",
   "metadata": {},
   "source": [
    "### List content of bucket"
   ]
  },
  {
   "cell_type": "code",
   "execution_count": 7,
   "metadata": {},
   "outputs": [
    {
     "data": {
      "text/plain": [
       "['fgu-phd-mdb/data_777.csv', 'fgu-phd-mdb/data_777.parquet', 'fgu-phd-mdb/raw']"
      ]
     },
     "execution_count": 7,
     "metadata": {},
     "output_type": "execute_result"
    }
   ],
   "source": [
    "bucket = 'fgu-phd-mdb'\n",
    "\n",
    "fs = s3fs.S3FileSystem()\n",
    "fs.ls(bucket)"
   ]
  },
  {
   "cell_type": "markdown",
   "metadata": {},
   "source": [
    "### Read file from S3"
   ]
  },
  {
   "cell_type": "code",
   "execution_count": 9,
   "metadata": {},
   "outputs": [
    {
     "name": "stdout",
     "output_type": "stream",
     "text": [
      "<class 'pandas.core.frame.DataFrame'>\n",
      "Int64Index: 115197 entries, 6553 to 115196\n",
      "Data columns (total 21 columns):\n",
      " #   Column                   Non-Null Count   Dtype         \n",
      "---  ------                   --------------   -----         \n",
      " 0   user_id                  115197 non-null  int32         \n",
      " 1   transaction_date         115197 non-null  datetime64[ns]\n",
      " 2   amount                   115197 non-null  float32       \n",
      " 3   transaction_description  115197 non-null  object        \n",
      " 4   merchant_name            115197 non-null  object        \n",
      " 5   tag                      115197 non-null  object        \n",
      " 6   year_of_birth            115197 non-null  float32       \n",
      " 7   gender                   115197 non-null  object        \n",
      " 8   account_created          115197 non-null  datetime64[ns]\n",
      " 9   merchant_business_line   115197 non-null  object        \n",
      " 10  transaction_id           115197 non-null  int32         \n",
      " 11  bank                     115197 non-null  object        \n",
      " 12  ym                       115197 non-null  object        \n",
      " 13  account_type             115197 non-null  object        \n",
      " 14  postcode                 115197 non-null  object        \n",
      " 15  account_id               115197 non-null  int32         \n",
      " 16  user_registration_date   115197 non-null  datetime64[ns]\n",
      " 17  latest_balance           115197 non-null  float64       \n",
      " 18  credit_debit             115197 non-null  category      \n",
      " 19  account_last_refreshed   115197 non-null  datetime64[ns]\n",
      " 20  salary_range             22574 non-null   category      \n",
      "dtypes: category(2), datetime64[ns](4), float32(2), float64(1), int32(3), object(9)\n",
      "memory usage: 15.6+ MB\n"
     ]
    }
   ],
   "source": [
    "file = 'data_777.parquet'\n",
    "\n",
    "df = pd.read_parquet(f's3://{bucket}/{file}')\n",
    "df.info()"
   ]
  },
  {
   "cell_type": "markdown",
   "metadata": {},
   "source": [
    "## Sources\n",
    "\n",
    "- [Fluent Python](https://www.oreilly.com/library/view/fluent-python/9781491946237/)\n",
    "- [Python Cookbook](https://www.oreilly.com/library/view/python-cookbook-3rd/9781449357337/)\n",
    "- [Learning Python](https://www.oreilly.com/library/view/learning-python-5th/9781449355722/)\n",
    "- [The Hitchhiker's Guide to Python](https://docs.python-guide.org/writing/structure/)\n",
    "- [Effective Python](https://effectivepython.com)\n",
    "- [Python for Data Analysis](https://www.oreilly.com/library/view/python-for-data/9781491957653/)\n",
    "- [Python Data Science Handbook](https://www.oreilly.com/library/view/python-data-science/9781491912126/)"
   ]
  }
 ],
 "metadata": {
  "kernelspec": {
   "display_name": "habits",
   "language": "python",
   "name": "habits"
  },
  "language_info": {
   "codemirror_mode": {
    "name": "ipython",
    "version": 3
   },
   "file_extension": ".py",
   "mimetype": "text/x-python",
   "name": "python",
   "nbconvert_exporter": "python",
   "pygments_lexer": "ipython3",
   "version": "3.7.7"
  }
 },
 "nbformat": 4,
 "nbformat_minor": 4
}
