{
 "cells": [
  {
   "cell_type": "markdown",
   "metadata": {},
   "source": [
    "# Imports\n",
    "\n",
    "- toc: true\n",
    "- badges: true\n",
    "- comments: true\n",
    "- categories: [python]"
   ]
  },
  {
   "cell_type": "markdown",
   "metadata": {},
   "source": [
    "From reading Chapter 8 in [Python Essential Reference](https://www.oreilly.com/library/view/python-essential-reference/9780768687040/):\n",
    "\n",
    "- `Import module` for the first time does three things:\n",
    "    \n",
    "    1. Create a new namespace that acts as the global namespace for all objects defined in module.\n",
    "    \n",
    "    2. Execute module.\n",
    "    \n",
    "    3. Create a name -- identical to the module name -- within the caller that references to the module and can be used like module.method.\n",
    "    \n",
    "    After this import, all the objects in module will be available to the caller namespace though the module's namespace and can be accessed as `module.foo`.\n",
    "    \n",
    "- `From module import symbol` imports `symbol` into the current namespace. However, the global namespace for symbol (if it's a function) always remains the namespace in which it was defined, not the current namespace.\n",
    "\n",
    "- One reason `from module import *` is generally discouraged is that it directly imports all the module's objects into the caller's namespace, which is often said to \"clutter\" the latter. Especially when importing large modules this makes sense, as it's very nice to have objects defined in imported modules defined in separate namespaces and accessed via `module.object`. Anohter reason is that it makese code harder to read and debug because it's not obvious where `object` comes from if it's called without the preceeding namespace identifier."
   ]
  },
  {
   "cell_type": "markdown",
   "metadata": {},
   "source": [
    "## Relative imports\n",
    "\n",
    "- For relative imports to work as described, for instance, [here](https://docs.python.org/2/tutorial/modules.html#packages) and in Chapter 8 in Python Essential References and in recipees 10.1 and 10.3 in the Python Cookbook, the file into which you import has itself to be a module rather than a top-level script. If it's the latter, it's name will be __main__ and it won't be considered part of a package, regardless of where on the file system it is saved. Generally, for a file to be considered part of a package, it needs to nave a dot (.) in its name, as in package.submodule.modulename. From [here](https://stackoverflow.com/questions/14132789/relative-imports-in-python-2-7/14132912#14132912)"
   ]
  },
  {
   "cell_type": "markdown",
   "metadata": {},
   "source": [
    "## Main sources"
   ]
  },
  {
   "cell_type": "markdown",
   "metadata": {},
   "source": [
    "- [The Hitchhiker's Guide to Python](https://docs.python-guide.org/writing/structure/)"
   ]
  }
 ],
 "metadata": {
  "kernelspec": {
   "display_name": "habits",
   "language": "python",
   "name": "habits"
  },
  "language_info": {
   "codemirror_mode": {
    "name": "ipython",
    "version": 3
   },
   "file_extension": ".py",
   "mimetype": "text/x-python",
   "name": "python",
   "nbconvert_exporter": "python",
   "pygments_lexer": "ipython3",
   "version": "3.7.7"
  }
 },
 "nbformat": 4,
 "nbformat_minor": 4
}
